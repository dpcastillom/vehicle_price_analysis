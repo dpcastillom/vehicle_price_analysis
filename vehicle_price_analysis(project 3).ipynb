{
 "cells": [
  {
   "cell_type": "markdown",
   "metadata": {},
   "source": [
    "----"
   ]
  },
  {
   "cell_type": "markdown",
   "metadata": {},
   "source": [
    "# ¿Qué vende un coche?\n",
    "\n",
    "Eres un analista en Crankshaft List. Cientos de anuncios gratuitos de vehículos se publican en tu sitio web cada día. Necesitas estudiar los datos recopilados durante los últimos años y determinar qué factores influyen en el precio de un vehículo."
   ]
  },
  {
   "cell_type": "markdown",
   "metadata": {},
   "source": [
    "## Inicialización"
   ]
  },
  {
   "cell_type": "markdown",
   "metadata": {},
   "source": [
    "A continuación se cargan las librerías, en particular, pandas para hacer en análisis de datos y matplotlib para trabajar con gráficos."
   ]
  },
  {
   "cell_type": "code",
   "execution_count": 2,
   "metadata": {},
   "outputs": [],
   "source": [
    "import matplotlib.pyplot as plt\n",
    "import pandas as pd "
   ]
  },
  {
   "cell_type": "markdown",
   "metadata": {},
   "source": [
    "### Carga de Datos"
   ]
  },
  {
   "cell_type": "markdown",
   "metadata": {},
   "source": [
    "Se abre el archivo .csv para su lectura en pandas."
   ]
  },
  {
   "cell_type": "code",
   "execution_count": 3,
   "metadata": {},
   "outputs": [],
   "source": [
    "df = pd.read_csv('/datasets/vehicles_us.csv')"
   ]
  },
  {
   "cell_type": "markdown",
   "metadata": {},
   "source": [
    "### Exploración de datos iniciales"
   ]
  },
  {
   "cell_type": "markdown",
   "metadata": {},
   "source": [
    "El dataset contiene los siguientes campos expresados como columnas:\n",
    "\n",
    "- `price` - precio\n",
    "- `model_year`- año del modelo\n",
    "- `model`- modelo\n",
    "- `condition`- condición\n",
    "- `cylinders`- cilindros\n",
    "- `fuel` — gasolina, diesel, etc.\n",
    "- `odometer` — el millaje del vehículo cuando el anuncio fue publicado\n",
    "- `transmission` - transmisión\n",
    "- `paint_color` - color de la pintura\n",
    "- `is_4wd` — si el vehículo tiene tracción a las 4 ruedas (tipo Booleano)\n",
    "- `date_posted` — la fecha en la que el anuncio fue publicado\n",
    "- `days_listed` — desde la publicación hasta que se elimina\n",
    "\n"
   ]
  },
  {
   "cell_type": "markdown",
   "metadata": {},
   "source": [
    "A continuación se observa una vista resumida del dataframe, que cuenta con 13 columnas, 51525 filas y datos ausentes."
   ]
  },
  {
   "cell_type": "code",
   "execution_count": 4,
   "metadata": {},
   "outputs": [
    {
     "name": "stdout",
     "output_type": "stream",
     "text": [
      "<class 'pandas.core.frame.DataFrame'>\n",
      "RangeIndex: 51525 entries, 0 to 51524\n",
      "Data columns (total 13 columns):\n",
      " #   Column        Non-Null Count  Dtype  \n",
      "---  ------        --------------  -----  \n",
      " 0   price         51525 non-null  int64  \n",
      " 1   model_year    47906 non-null  float64\n",
      " 2   model         51525 non-null  object \n",
      " 3   condition     51525 non-null  object \n",
      " 4   cylinders     46265 non-null  float64\n",
      " 5   fuel          51525 non-null  object \n",
      " 6   odometer      43633 non-null  float64\n",
      " 7   transmission  51525 non-null  object \n",
      " 8   type          51525 non-null  object \n",
      " 9   paint_color   42258 non-null  object \n",
      " 10  is_4wd        25572 non-null  float64\n",
      " 11  date_posted   51525 non-null  object \n",
      " 12  days_listed   51525 non-null  int64  \n",
      "dtypes: float64(4), int64(2), object(7)\n",
      "memory usage: 5.1+ MB\n"
     ]
    }
   ],
   "source": [
    "df.info()"
   ]
  },
  {
   "cell_type": "code",
   "execution_count": 5,
   "metadata": {},
   "outputs": [
    {
     "data": {
      "text/plain": [
       "(51525, 13)"
      ]
     },
     "execution_count": 5,
     "metadata": {},
     "output_type": "execute_result"
    }
   ],
   "source": [
    "df.shape"
   ]
  },
  {
   "cell_type": "markdown",
   "metadata": {},
   "source": [
    "Para observar con más claridad el dataframe, se imprime una muestra de este, que incluye las 10 primeras filas."
   ]
  },
  {
   "cell_type": "code",
   "execution_count": 6,
   "metadata": {},
   "outputs": [
    {
     "data": {
      "text/html": [
       "<div>\n",
       "<style scoped>\n",
       "    .dataframe tbody tr th:only-of-type {\n",
       "        vertical-align: middle;\n",
       "    }\n",
       "\n",
       "    .dataframe tbody tr th {\n",
       "        vertical-align: top;\n",
       "    }\n",
       "\n",
       "    .dataframe thead th {\n",
       "        text-align: right;\n",
       "    }\n",
       "</style>\n",
       "<table border=\"1\" class=\"dataframe\">\n",
       "  <thead>\n",
       "    <tr style=\"text-align: right;\">\n",
       "      <th></th>\n",
       "      <th>price</th>\n",
       "      <th>model_year</th>\n",
       "      <th>model</th>\n",
       "      <th>condition</th>\n",
       "      <th>cylinders</th>\n",
       "      <th>fuel</th>\n",
       "      <th>odometer</th>\n",
       "      <th>transmission</th>\n",
       "      <th>type</th>\n",
       "      <th>paint_color</th>\n",
       "      <th>is_4wd</th>\n",
       "      <th>date_posted</th>\n",
       "      <th>days_listed</th>\n",
       "    </tr>\n",
       "  </thead>\n",
       "  <tbody>\n",
       "    <tr>\n",
       "      <th>0</th>\n",
       "      <td>9400</td>\n",
       "      <td>2011.0</td>\n",
       "      <td>bmw x5</td>\n",
       "      <td>good</td>\n",
       "      <td>6.0</td>\n",
       "      <td>gas</td>\n",
       "      <td>145000.0</td>\n",
       "      <td>automatic</td>\n",
       "      <td>SUV</td>\n",
       "      <td>NaN</td>\n",
       "      <td>1.0</td>\n",
       "      <td>2018-06-23</td>\n",
       "      <td>19</td>\n",
       "    </tr>\n",
       "    <tr>\n",
       "      <th>1</th>\n",
       "      <td>25500</td>\n",
       "      <td>NaN</td>\n",
       "      <td>ford f-150</td>\n",
       "      <td>good</td>\n",
       "      <td>6.0</td>\n",
       "      <td>gas</td>\n",
       "      <td>88705.0</td>\n",
       "      <td>automatic</td>\n",
       "      <td>pickup</td>\n",
       "      <td>white</td>\n",
       "      <td>1.0</td>\n",
       "      <td>2018-10-19</td>\n",
       "      <td>50</td>\n",
       "    </tr>\n",
       "    <tr>\n",
       "      <th>2</th>\n",
       "      <td>5500</td>\n",
       "      <td>2013.0</td>\n",
       "      <td>hyundai sonata</td>\n",
       "      <td>like new</td>\n",
       "      <td>4.0</td>\n",
       "      <td>gas</td>\n",
       "      <td>110000.0</td>\n",
       "      <td>automatic</td>\n",
       "      <td>sedan</td>\n",
       "      <td>red</td>\n",
       "      <td>NaN</td>\n",
       "      <td>2019-02-07</td>\n",
       "      <td>79</td>\n",
       "    </tr>\n",
       "    <tr>\n",
       "      <th>3</th>\n",
       "      <td>1500</td>\n",
       "      <td>2003.0</td>\n",
       "      <td>ford f-150</td>\n",
       "      <td>fair</td>\n",
       "      <td>8.0</td>\n",
       "      <td>gas</td>\n",
       "      <td>NaN</td>\n",
       "      <td>automatic</td>\n",
       "      <td>pickup</td>\n",
       "      <td>NaN</td>\n",
       "      <td>NaN</td>\n",
       "      <td>2019-03-22</td>\n",
       "      <td>9</td>\n",
       "    </tr>\n",
       "    <tr>\n",
       "      <th>4</th>\n",
       "      <td>14900</td>\n",
       "      <td>2017.0</td>\n",
       "      <td>chrysler 200</td>\n",
       "      <td>excellent</td>\n",
       "      <td>4.0</td>\n",
       "      <td>gas</td>\n",
       "      <td>80903.0</td>\n",
       "      <td>automatic</td>\n",
       "      <td>sedan</td>\n",
       "      <td>black</td>\n",
       "      <td>NaN</td>\n",
       "      <td>2019-04-02</td>\n",
       "      <td>28</td>\n",
       "    </tr>\n",
       "    <tr>\n",
       "      <th>5</th>\n",
       "      <td>14990</td>\n",
       "      <td>2014.0</td>\n",
       "      <td>chrysler 300</td>\n",
       "      <td>excellent</td>\n",
       "      <td>6.0</td>\n",
       "      <td>gas</td>\n",
       "      <td>57954.0</td>\n",
       "      <td>automatic</td>\n",
       "      <td>sedan</td>\n",
       "      <td>black</td>\n",
       "      <td>1.0</td>\n",
       "      <td>2018-06-20</td>\n",
       "      <td>15</td>\n",
       "    </tr>\n",
       "    <tr>\n",
       "      <th>6</th>\n",
       "      <td>12990</td>\n",
       "      <td>2015.0</td>\n",
       "      <td>toyota camry</td>\n",
       "      <td>excellent</td>\n",
       "      <td>4.0</td>\n",
       "      <td>gas</td>\n",
       "      <td>79212.0</td>\n",
       "      <td>automatic</td>\n",
       "      <td>sedan</td>\n",
       "      <td>white</td>\n",
       "      <td>NaN</td>\n",
       "      <td>2018-12-27</td>\n",
       "      <td>73</td>\n",
       "    </tr>\n",
       "    <tr>\n",
       "      <th>7</th>\n",
       "      <td>15990</td>\n",
       "      <td>2013.0</td>\n",
       "      <td>honda pilot</td>\n",
       "      <td>excellent</td>\n",
       "      <td>6.0</td>\n",
       "      <td>gas</td>\n",
       "      <td>109473.0</td>\n",
       "      <td>automatic</td>\n",
       "      <td>SUV</td>\n",
       "      <td>black</td>\n",
       "      <td>1.0</td>\n",
       "      <td>2019-01-07</td>\n",
       "      <td>68</td>\n",
       "    </tr>\n",
       "    <tr>\n",
       "      <th>8</th>\n",
       "      <td>11500</td>\n",
       "      <td>2012.0</td>\n",
       "      <td>kia sorento</td>\n",
       "      <td>excellent</td>\n",
       "      <td>4.0</td>\n",
       "      <td>gas</td>\n",
       "      <td>104174.0</td>\n",
       "      <td>automatic</td>\n",
       "      <td>SUV</td>\n",
       "      <td>NaN</td>\n",
       "      <td>1.0</td>\n",
       "      <td>2018-07-16</td>\n",
       "      <td>19</td>\n",
       "    </tr>\n",
       "    <tr>\n",
       "      <th>9</th>\n",
       "      <td>9200</td>\n",
       "      <td>2008.0</td>\n",
       "      <td>honda pilot</td>\n",
       "      <td>excellent</td>\n",
       "      <td>NaN</td>\n",
       "      <td>gas</td>\n",
       "      <td>147191.0</td>\n",
       "      <td>automatic</td>\n",
       "      <td>SUV</td>\n",
       "      <td>blue</td>\n",
       "      <td>1.0</td>\n",
       "      <td>2019-02-15</td>\n",
       "      <td>17</td>\n",
       "    </tr>\n",
       "  </tbody>\n",
       "</table>\n",
       "</div>"
      ],
      "text/plain": [
       "   price  model_year           model  condition  cylinders fuel  odometer  \\\n",
       "0   9400      2011.0          bmw x5       good        6.0  gas  145000.0   \n",
       "1  25500         NaN      ford f-150       good        6.0  gas   88705.0   \n",
       "2   5500      2013.0  hyundai sonata   like new        4.0  gas  110000.0   \n",
       "3   1500      2003.0      ford f-150       fair        8.0  gas       NaN   \n",
       "4  14900      2017.0    chrysler 200  excellent        4.0  gas   80903.0   \n",
       "5  14990      2014.0    chrysler 300  excellent        6.0  gas   57954.0   \n",
       "6  12990      2015.0    toyota camry  excellent        4.0  gas   79212.0   \n",
       "7  15990      2013.0     honda pilot  excellent        6.0  gas  109473.0   \n",
       "8  11500      2012.0     kia sorento  excellent        4.0  gas  104174.0   \n",
       "9   9200      2008.0     honda pilot  excellent        NaN  gas  147191.0   \n",
       "\n",
       "  transmission    type paint_color  is_4wd date_posted  days_listed  \n",
       "0    automatic     SUV         NaN     1.0  2018-06-23           19  \n",
       "1    automatic  pickup       white     1.0  2018-10-19           50  \n",
       "2    automatic   sedan         red     NaN  2019-02-07           79  \n",
       "3    automatic  pickup         NaN     NaN  2019-03-22            9  \n",
       "4    automatic   sedan       black     NaN  2019-04-02           28  \n",
       "5    automatic   sedan       black     1.0  2018-06-20           15  \n",
       "6    automatic   sedan       white     NaN  2018-12-27           73  \n",
       "7    automatic     SUV       black     1.0  2019-01-07           68  \n",
       "8    automatic     SUV         NaN     1.0  2018-07-16           19  \n",
       "9    automatic     SUV        blue     1.0  2019-02-15           17  "
      ]
     },
     "execution_count": 6,
     "metadata": {},
     "output_type": "execute_result"
    }
   ],
   "source": [
    "df.head(10)"
   ]
  },
  {
   "cell_type": "markdown",
   "metadata": {},
   "source": [
    "El dataframe está compuesto por 13 columnas y 51525 filas. Dichas filas presentan valores ausentes para algunas columnas, además de datos cuyo tipo no está expresado correctamente, por lo que se deberán tratar los valores ausentes y corregir los tipos de datos. En particular, las columnas model_year y cylinders representan respectivamente el año del auto, y la cantidad de cilindros, es decir, números enteros, pero en el dataframe están expresados como decimales. Además, la columna is_4w es una variable dummy al representar la ausencia o presencia de un atributo, en este caso, si el vehículo tiene tracción a cuatro ruedas. Los valores 1 que denotan la presencia del atributo están bien expresados en el dataframe pero los valores 0 aparecen como datos NaN. Además, a primera vista, se observan datos ausentes para las columnas, model_year, cylinders, odometer, paint_color e is_4wd. "
   ]
  },
  {
   "cell_type": "markdown",
   "metadata": {},
   "source": [
    "## Tratamiento de los valores ausentes "
   ]
  },
  {
   "cell_type": "markdown",
   "metadata": {},
   "source": [
    "A continuación se definirá la cantidad y el porcentaje de datos ausentes para cada columna, para ver qué tan grande puede ser su impacto en el dataframe y cómo tratarlos."
   ]
  },
  {
   "cell_type": "code",
   "execution_count": 7,
   "metadata": {},
   "outputs": [
    {
     "data": {
      "text/plain": [
       "model_year      3619\n",
       "cylinders       5260\n",
       "odometer        7892\n",
       "paint_color     9267\n",
       "is_4wd         25953\n",
       "dtype: int64"
      ]
     },
     "execution_count": 7,
     "metadata": {},
     "output_type": "execute_result"
    }
   ],
   "source": [
    "df[['model_year', 'cylinders', 'odometer','paint_color', 'is_4wd']].isna().sum()"
   ]
  },
  {
   "cell_type": "code",
   "execution_count": 8,
   "metadata": {},
   "outputs": [
    {
     "name": "stdout",
     "output_type": "stream",
     "text": [
      "price            0.000000\n",
      "model_year       7.023775\n",
      "model            0.000000\n",
      "condition        0.000000\n",
      "cylinders       10.208637\n",
      "fuel             0.000000\n",
      "odometer        15.316836\n",
      "transmission     0.000000\n",
      "type             0.000000\n",
      "paint_color     17.985444\n",
      "is_4wd          50.369723\n",
      "date_posted      0.000000\n",
      "days_listed      0.000000\n",
      "dtype: float64\n"
     ]
    }
   ],
   "source": [
    "missing_data = df.isnull().sum()\n",
    "total_rows = df.shape[0]\n",
    "percent_missing = (missing_data/ total_rows) * 100\n",
    "print(percent_missing)"
   ]
  },
  {
   "cell_type": "markdown",
   "metadata": {},
   "source": [
    "### Model_year"
   ]
  },
  {
   "cell_type": "markdown",
   "metadata": {},
   "source": [
    "El año del modelo representa menos del 10% de los datos, por lo que se eliminarán dichas filas con el método .dropna."
   ]
  },
  {
   "cell_type": "code",
   "execution_count": 9,
   "metadata": {
    "scrolled": true
   },
   "outputs": [
    {
     "data": {
      "text/html": [
       "<div>\n",
       "<style scoped>\n",
       "    .dataframe tbody tr th:only-of-type {\n",
       "        vertical-align: middle;\n",
       "    }\n",
       "\n",
       "    .dataframe tbody tr th {\n",
       "        vertical-align: top;\n",
       "    }\n",
       "\n",
       "    .dataframe thead th {\n",
       "        text-align: right;\n",
       "    }\n",
       "</style>\n",
       "<table border=\"1\" class=\"dataframe\">\n",
       "  <thead>\n",
       "    <tr style=\"text-align: right;\">\n",
       "      <th></th>\n",
       "      <th>price</th>\n",
       "      <th>model_year</th>\n",
       "      <th>model</th>\n",
       "      <th>condition</th>\n",
       "      <th>cylinders</th>\n",
       "      <th>fuel</th>\n",
       "      <th>odometer</th>\n",
       "      <th>transmission</th>\n",
       "      <th>type</th>\n",
       "      <th>paint_color</th>\n",
       "      <th>is_4wd</th>\n",
       "      <th>date_posted</th>\n",
       "      <th>days_listed</th>\n",
       "    </tr>\n",
       "  </thead>\n",
       "  <tbody>\n",
       "    <tr>\n",
       "      <th>0</th>\n",
       "      <td>9400</td>\n",
       "      <td>2011.0</td>\n",
       "      <td>bmw x5</td>\n",
       "      <td>good</td>\n",
       "      <td>6.0</td>\n",
       "      <td>gas</td>\n",
       "      <td>145000.0</td>\n",
       "      <td>automatic</td>\n",
       "      <td>SUV</td>\n",
       "      <td>NaN</td>\n",
       "      <td>1.0</td>\n",
       "      <td>2018-06-23</td>\n",
       "      <td>19</td>\n",
       "    </tr>\n",
       "    <tr>\n",
       "      <th>1</th>\n",
       "      <td>5500</td>\n",
       "      <td>2013.0</td>\n",
       "      <td>hyundai sonata</td>\n",
       "      <td>like new</td>\n",
       "      <td>4.0</td>\n",
       "      <td>gas</td>\n",
       "      <td>110000.0</td>\n",
       "      <td>automatic</td>\n",
       "      <td>sedan</td>\n",
       "      <td>red</td>\n",
       "      <td>NaN</td>\n",
       "      <td>2019-02-07</td>\n",
       "      <td>79</td>\n",
       "    </tr>\n",
       "    <tr>\n",
       "      <th>2</th>\n",
       "      <td>1500</td>\n",
       "      <td>2003.0</td>\n",
       "      <td>ford f-150</td>\n",
       "      <td>fair</td>\n",
       "      <td>8.0</td>\n",
       "      <td>gas</td>\n",
       "      <td>NaN</td>\n",
       "      <td>automatic</td>\n",
       "      <td>pickup</td>\n",
       "      <td>NaN</td>\n",
       "      <td>NaN</td>\n",
       "      <td>2019-03-22</td>\n",
       "      <td>9</td>\n",
       "    </tr>\n",
       "    <tr>\n",
       "      <th>3</th>\n",
       "      <td>14900</td>\n",
       "      <td>2017.0</td>\n",
       "      <td>chrysler 200</td>\n",
       "      <td>excellent</td>\n",
       "      <td>4.0</td>\n",
       "      <td>gas</td>\n",
       "      <td>80903.0</td>\n",
       "      <td>automatic</td>\n",
       "      <td>sedan</td>\n",
       "      <td>black</td>\n",
       "      <td>NaN</td>\n",
       "      <td>2019-04-02</td>\n",
       "      <td>28</td>\n",
       "    </tr>\n",
       "    <tr>\n",
       "      <th>4</th>\n",
       "      <td>14990</td>\n",
       "      <td>2014.0</td>\n",
       "      <td>chrysler 300</td>\n",
       "      <td>excellent</td>\n",
       "      <td>6.0</td>\n",
       "      <td>gas</td>\n",
       "      <td>57954.0</td>\n",
       "      <td>automatic</td>\n",
       "      <td>sedan</td>\n",
       "      <td>black</td>\n",
       "      <td>1.0</td>\n",
       "      <td>2018-06-20</td>\n",
       "      <td>15</td>\n",
       "    </tr>\n",
       "  </tbody>\n",
       "</table>\n",
       "</div>"
      ],
      "text/plain": [
       "   price  model_year           model  condition  cylinders fuel  odometer  \\\n",
       "0   9400      2011.0          bmw x5       good        6.0  gas  145000.0   \n",
       "1   5500      2013.0  hyundai sonata   like new        4.0  gas  110000.0   \n",
       "2   1500      2003.0      ford f-150       fair        8.0  gas       NaN   \n",
       "3  14900      2017.0    chrysler 200  excellent        4.0  gas   80903.0   \n",
       "4  14990      2014.0    chrysler 300  excellent        6.0  gas   57954.0   \n",
       "\n",
       "  transmission    type paint_color  is_4wd date_posted  days_listed  \n",
       "0    automatic     SUV         NaN     1.0  2018-06-23           19  \n",
       "1    automatic   sedan         red     NaN  2019-02-07           79  \n",
       "2    automatic  pickup         NaN     NaN  2019-03-22            9  \n",
       "3    automatic   sedan       black     NaN  2019-04-02           28  \n",
       "4    automatic   sedan       black     1.0  2018-06-20           15  "
      ]
     },
     "execution_count": 9,
     "metadata": {},
     "output_type": "execute_result"
    }
   ],
   "source": [
    "df = df.dropna(subset=['model_year']).reset_index(drop=True)\n",
    "df.head()"
   ]
  },
  {
   "cell_type": "markdown",
   "metadata": {},
   "source": [
    "### Is_4wd"
   ]
  },
  {
   "cell_type": "markdown",
   "metadata": {},
   "source": [
    "Para convertir esta variable en una variable booleana solo hace falta reemplezar los datos NaN por un cero, para esto se usará el método .fillna."
   ]
  },
  {
   "cell_type": "code",
   "execution_count": 10,
   "metadata": {},
   "outputs": [
    {
     "data": {
      "text/html": [
       "<div>\n",
       "<style scoped>\n",
       "    .dataframe tbody tr th:only-of-type {\n",
       "        vertical-align: middle;\n",
       "    }\n",
       "\n",
       "    .dataframe tbody tr th {\n",
       "        vertical-align: top;\n",
       "    }\n",
       "\n",
       "    .dataframe thead th {\n",
       "        text-align: right;\n",
       "    }\n",
       "</style>\n",
       "<table border=\"1\" class=\"dataframe\">\n",
       "  <thead>\n",
       "    <tr style=\"text-align: right;\">\n",
       "      <th></th>\n",
       "      <th>price</th>\n",
       "      <th>model_year</th>\n",
       "      <th>model</th>\n",
       "      <th>condition</th>\n",
       "      <th>cylinders</th>\n",
       "      <th>fuel</th>\n",
       "      <th>odometer</th>\n",
       "      <th>transmission</th>\n",
       "      <th>type</th>\n",
       "      <th>paint_color</th>\n",
       "      <th>is_4wd</th>\n",
       "      <th>date_posted</th>\n",
       "      <th>days_listed</th>\n",
       "    </tr>\n",
       "  </thead>\n",
       "  <tbody>\n",
       "    <tr>\n",
       "      <th>0</th>\n",
       "      <td>9400</td>\n",
       "      <td>2011.0</td>\n",
       "      <td>bmw x5</td>\n",
       "      <td>good</td>\n",
       "      <td>6.0</td>\n",
       "      <td>gas</td>\n",
       "      <td>145000.0</td>\n",
       "      <td>automatic</td>\n",
       "      <td>SUV</td>\n",
       "      <td>NaN</td>\n",
       "      <td>1.0</td>\n",
       "      <td>2018-06-23</td>\n",
       "      <td>19</td>\n",
       "    </tr>\n",
       "    <tr>\n",
       "      <th>1</th>\n",
       "      <td>5500</td>\n",
       "      <td>2013.0</td>\n",
       "      <td>hyundai sonata</td>\n",
       "      <td>like new</td>\n",
       "      <td>4.0</td>\n",
       "      <td>gas</td>\n",
       "      <td>110000.0</td>\n",
       "      <td>automatic</td>\n",
       "      <td>sedan</td>\n",
       "      <td>red</td>\n",
       "      <td>0.0</td>\n",
       "      <td>2019-02-07</td>\n",
       "      <td>79</td>\n",
       "    </tr>\n",
       "    <tr>\n",
       "      <th>2</th>\n",
       "      <td>1500</td>\n",
       "      <td>2003.0</td>\n",
       "      <td>ford f-150</td>\n",
       "      <td>fair</td>\n",
       "      <td>8.0</td>\n",
       "      <td>gas</td>\n",
       "      <td>NaN</td>\n",
       "      <td>automatic</td>\n",
       "      <td>pickup</td>\n",
       "      <td>NaN</td>\n",
       "      <td>0.0</td>\n",
       "      <td>2019-03-22</td>\n",
       "      <td>9</td>\n",
       "    </tr>\n",
       "    <tr>\n",
       "      <th>3</th>\n",
       "      <td>14900</td>\n",
       "      <td>2017.0</td>\n",
       "      <td>chrysler 200</td>\n",
       "      <td>excellent</td>\n",
       "      <td>4.0</td>\n",
       "      <td>gas</td>\n",
       "      <td>80903.0</td>\n",
       "      <td>automatic</td>\n",
       "      <td>sedan</td>\n",
       "      <td>black</td>\n",
       "      <td>0.0</td>\n",
       "      <td>2019-04-02</td>\n",
       "      <td>28</td>\n",
       "    </tr>\n",
       "    <tr>\n",
       "      <th>4</th>\n",
       "      <td>14990</td>\n",
       "      <td>2014.0</td>\n",
       "      <td>chrysler 300</td>\n",
       "      <td>excellent</td>\n",
       "      <td>6.0</td>\n",
       "      <td>gas</td>\n",
       "      <td>57954.0</td>\n",
       "      <td>automatic</td>\n",
       "      <td>sedan</td>\n",
       "      <td>black</td>\n",
       "      <td>1.0</td>\n",
       "      <td>2018-06-20</td>\n",
       "      <td>15</td>\n",
       "    </tr>\n",
       "  </tbody>\n",
       "</table>\n",
       "</div>"
      ],
      "text/plain": [
       "   price  model_year           model  condition  cylinders fuel  odometer  \\\n",
       "0   9400      2011.0          bmw x5       good        6.0  gas  145000.0   \n",
       "1   5500      2013.0  hyundai sonata   like new        4.0  gas  110000.0   \n",
       "2   1500      2003.0      ford f-150       fair        8.0  gas       NaN   \n",
       "3  14900      2017.0    chrysler 200  excellent        4.0  gas   80903.0   \n",
       "4  14990      2014.0    chrysler 300  excellent        6.0  gas   57954.0   \n",
       "\n",
       "  transmission    type paint_color  is_4wd date_posted  days_listed  \n",
       "0    automatic     SUV         NaN     1.0  2018-06-23           19  \n",
       "1    automatic   sedan         red     0.0  2019-02-07           79  \n",
       "2    automatic  pickup         NaN     0.0  2019-03-22            9  \n",
       "3    automatic   sedan       black     0.0  2019-04-02           28  \n",
       "4    automatic   sedan       black     1.0  2018-06-20           15  "
      ]
     },
     "execution_count": 10,
     "metadata": {},
     "output_type": "execute_result"
    }
   ],
   "source": [
    "df['is_4wd'].fillna(0, inplace = True)\n",
    "df.head()"
   ]
  },
  {
   "cell_type": "markdown",
   "metadata": {},
   "source": [
    "### Paint_color"
   ]
  },
  {
   "cell_type": "markdown",
   "metadata": {},
   "source": [
    "Es difícil obtener la pintura del color a partir de otras variables, por lo que se agregará el valor \"otro\" para esta variable, usando el método .fillna para reemplazar los datos NaN por este nuevo valor."
   ]
  },
  {
   "cell_type": "code",
   "execution_count": 11,
   "metadata": {},
   "outputs": [
    {
     "data": {
      "text/html": [
       "<div>\n",
       "<style scoped>\n",
       "    .dataframe tbody tr th:only-of-type {\n",
       "        vertical-align: middle;\n",
       "    }\n",
       "\n",
       "    .dataframe tbody tr th {\n",
       "        vertical-align: top;\n",
       "    }\n",
       "\n",
       "    .dataframe thead th {\n",
       "        text-align: right;\n",
       "    }\n",
       "</style>\n",
       "<table border=\"1\" class=\"dataframe\">\n",
       "  <thead>\n",
       "    <tr style=\"text-align: right;\">\n",
       "      <th></th>\n",
       "      <th>price</th>\n",
       "      <th>model_year</th>\n",
       "      <th>model</th>\n",
       "      <th>condition</th>\n",
       "      <th>cylinders</th>\n",
       "      <th>fuel</th>\n",
       "      <th>odometer</th>\n",
       "      <th>transmission</th>\n",
       "      <th>type</th>\n",
       "      <th>paint_color</th>\n",
       "      <th>is_4wd</th>\n",
       "      <th>date_posted</th>\n",
       "      <th>days_listed</th>\n",
       "    </tr>\n",
       "  </thead>\n",
       "  <tbody>\n",
       "    <tr>\n",
       "      <th>0</th>\n",
       "      <td>9400</td>\n",
       "      <td>2011.0</td>\n",
       "      <td>bmw x5</td>\n",
       "      <td>good</td>\n",
       "      <td>6.0</td>\n",
       "      <td>gas</td>\n",
       "      <td>145000.0</td>\n",
       "      <td>automatic</td>\n",
       "      <td>SUV</td>\n",
       "      <td>other</td>\n",
       "      <td>1.0</td>\n",
       "      <td>2018-06-23</td>\n",
       "      <td>19</td>\n",
       "    </tr>\n",
       "    <tr>\n",
       "      <th>1</th>\n",
       "      <td>5500</td>\n",
       "      <td>2013.0</td>\n",
       "      <td>hyundai sonata</td>\n",
       "      <td>like new</td>\n",
       "      <td>4.0</td>\n",
       "      <td>gas</td>\n",
       "      <td>110000.0</td>\n",
       "      <td>automatic</td>\n",
       "      <td>sedan</td>\n",
       "      <td>red</td>\n",
       "      <td>0.0</td>\n",
       "      <td>2019-02-07</td>\n",
       "      <td>79</td>\n",
       "    </tr>\n",
       "    <tr>\n",
       "      <th>2</th>\n",
       "      <td>1500</td>\n",
       "      <td>2003.0</td>\n",
       "      <td>ford f-150</td>\n",
       "      <td>fair</td>\n",
       "      <td>8.0</td>\n",
       "      <td>gas</td>\n",
       "      <td>NaN</td>\n",
       "      <td>automatic</td>\n",
       "      <td>pickup</td>\n",
       "      <td>other</td>\n",
       "      <td>0.0</td>\n",
       "      <td>2019-03-22</td>\n",
       "      <td>9</td>\n",
       "    </tr>\n",
       "    <tr>\n",
       "      <th>3</th>\n",
       "      <td>14900</td>\n",
       "      <td>2017.0</td>\n",
       "      <td>chrysler 200</td>\n",
       "      <td>excellent</td>\n",
       "      <td>4.0</td>\n",
       "      <td>gas</td>\n",
       "      <td>80903.0</td>\n",
       "      <td>automatic</td>\n",
       "      <td>sedan</td>\n",
       "      <td>black</td>\n",
       "      <td>0.0</td>\n",
       "      <td>2019-04-02</td>\n",
       "      <td>28</td>\n",
       "    </tr>\n",
       "    <tr>\n",
       "      <th>4</th>\n",
       "      <td>14990</td>\n",
       "      <td>2014.0</td>\n",
       "      <td>chrysler 300</td>\n",
       "      <td>excellent</td>\n",
       "      <td>6.0</td>\n",
       "      <td>gas</td>\n",
       "      <td>57954.0</td>\n",
       "      <td>automatic</td>\n",
       "      <td>sedan</td>\n",
       "      <td>black</td>\n",
       "      <td>1.0</td>\n",
       "      <td>2018-06-20</td>\n",
       "      <td>15</td>\n",
       "    </tr>\n",
       "  </tbody>\n",
       "</table>\n",
       "</div>"
      ],
      "text/plain": [
       "   price  model_year           model  condition  cylinders fuel  odometer  \\\n",
       "0   9400      2011.0          bmw x5       good        6.0  gas  145000.0   \n",
       "1   5500      2013.0  hyundai sonata   like new        4.0  gas  110000.0   \n",
       "2   1500      2003.0      ford f-150       fair        8.0  gas       NaN   \n",
       "3  14900      2017.0    chrysler 200  excellent        4.0  gas   80903.0   \n",
       "4  14990      2014.0    chrysler 300  excellent        6.0  gas   57954.0   \n",
       "\n",
       "  transmission    type paint_color  is_4wd date_posted  days_listed  \n",
       "0    automatic     SUV       other     1.0  2018-06-23           19  \n",
       "1    automatic   sedan         red     0.0  2019-02-07           79  \n",
       "2    automatic  pickup       other     0.0  2019-03-22            9  \n",
       "3    automatic   sedan       black     0.0  2019-04-02           28  \n",
       "4    automatic   sedan       black     1.0  2018-06-20           15  "
      ]
     },
     "execution_count": 11,
     "metadata": {},
     "output_type": "execute_result"
    }
   ],
   "source": [
    "df['paint_color'] = df['paint_color'].fillna(value='other')\n",
    "df.head()"
   ]
  },
  {
   "cell_type": "markdown",
   "metadata": {},
   "source": [
    "### Cylinders"
   ]
  },
  {
   "cell_type": "markdown",
   "metadata": {},
   "source": [
    "Para reemplazar el valor de los cilindros, se calculará mediante una función la mediana de los cilindros para cada modelo de vehículo. Posteriormente, mediante un bucle for, los valores NaN serán remplazados con la mediana de su respectivo modelo a través del método .fillna."
   ]
  },
  {
   "cell_type": "code",
   "execution_count": 11,
   "metadata": {},
   "outputs": [
    {
     "data": {
      "text/html": [
       "<div>\n",
       "<style scoped>\n",
       "    .dataframe tbody tr th:only-of-type {\n",
       "        vertical-align: middle;\n",
       "    }\n",
       "\n",
       "    .dataframe tbody tr th {\n",
       "        vertical-align: top;\n",
       "    }\n",
       "\n",
       "    .dataframe thead th {\n",
       "        text-align: right;\n",
       "    }\n",
       "</style>\n",
       "<table border=\"1\" class=\"dataframe\">\n",
       "  <thead>\n",
       "    <tr style=\"text-align: right;\">\n",
       "      <th></th>\n",
       "      <th>price</th>\n",
       "      <th>model_year</th>\n",
       "      <th>model</th>\n",
       "      <th>condition</th>\n",
       "      <th>cylinders</th>\n",
       "      <th>fuel</th>\n",
       "      <th>odometer</th>\n",
       "      <th>transmission</th>\n",
       "      <th>type</th>\n",
       "      <th>paint_color</th>\n",
       "      <th>is_4wd</th>\n",
       "      <th>date_posted</th>\n",
       "      <th>days_listed</th>\n",
       "    </tr>\n",
       "  </thead>\n",
       "  <tbody>\n",
       "    <tr>\n",
       "      <th>0</th>\n",
       "      <td>9400</td>\n",
       "      <td>2011.0</td>\n",
       "      <td>bmw x5</td>\n",
       "      <td>good</td>\n",
       "      <td>6.0</td>\n",
       "      <td>gas</td>\n",
       "      <td>145000.0</td>\n",
       "      <td>automatic</td>\n",
       "      <td>SUV</td>\n",
       "      <td>other</td>\n",
       "      <td>1.0</td>\n",
       "      <td>2018-06-23</td>\n",
       "      <td>19</td>\n",
       "    </tr>\n",
       "    <tr>\n",
       "      <th>1</th>\n",
       "      <td>5500</td>\n",
       "      <td>2013.0</td>\n",
       "      <td>hyundai sonata</td>\n",
       "      <td>like new</td>\n",
       "      <td>4.0</td>\n",
       "      <td>gas</td>\n",
       "      <td>110000.0</td>\n",
       "      <td>automatic</td>\n",
       "      <td>sedan</td>\n",
       "      <td>red</td>\n",
       "      <td>0.0</td>\n",
       "      <td>2019-02-07</td>\n",
       "      <td>79</td>\n",
       "    </tr>\n",
       "    <tr>\n",
       "      <th>2</th>\n",
       "      <td>1500</td>\n",
       "      <td>2003.0</td>\n",
       "      <td>ford f-150</td>\n",
       "      <td>fair</td>\n",
       "      <td>8.0</td>\n",
       "      <td>gas</td>\n",
       "      <td>NaN</td>\n",
       "      <td>automatic</td>\n",
       "      <td>pickup</td>\n",
       "      <td>other</td>\n",
       "      <td>0.0</td>\n",
       "      <td>2019-03-22</td>\n",
       "      <td>9</td>\n",
       "    </tr>\n",
       "    <tr>\n",
       "      <th>3</th>\n",
       "      <td>14900</td>\n",
       "      <td>2017.0</td>\n",
       "      <td>chrysler 200</td>\n",
       "      <td>excellent</td>\n",
       "      <td>4.0</td>\n",
       "      <td>gas</td>\n",
       "      <td>80903.0</td>\n",
       "      <td>automatic</td>\n",
       "      <td>sedan</td>\n",
       "      <td>black</td>\n",
       "      <td>0.0</td>\n",
       "      <td>2019-04-02</td>\n",
       "      <td>28</td>\n",
       "    </tr>\n",
       "    <tr>\n",
       "      <th>4</th>\n",
       "      <td>14990</td>\n",
       "      <td>2014.0</td>\n",
       "      <td>chrysler 300</td>\n",
       "      <td>excellent</td>\n",
       "      <td>6.0</td>\n",
       "      <td>gas</td>\n",
       "      <td>57954.0</td>\n",
       "      <td>automatic</td>\n",
       "      <td>sedan</td>\n",
       "      <td>black</td>\n",
       "      <td>1.0</td>\n",
       "      <td>2018-06-20</td>\n",
       "      <td>15</td>\n",
       "    </tr>\n",
       "  </tbody>\n",
       "</table>\n",
       "</div>"
      ],
      "text/plain": [
       "   price  model_year           model  condition  cylinders fuel  odometer  \\\n",
       "0   9400      2011.0          bmw x5       good        6.0  gas  145000.0   \n",
       "1   5500      2013.0  hyundai sonata   like new        4.0  gas  110000.0   \n",
       "2   1500      2003.0      ford f-150       fair        8.0  gas       NaN   \n",
       "3  14900      2017.0    chrysler 200  excellent        4.0  gas   80903.0   \n",
       "4  14990      2014.0    chrysler 300  excellent        6.0  gas   57954.0   \n",
       "\n",
       "  transmission    type paint_color  is_4wd date_posted  days_listed  \n",
       "0    automatic     SUV       other     1.0  2018-06-23           19  \n",
       "1    automatic   sedan         red     0.0  2019-02-07           79  \n",
       "2    automatic  pickup       other     0.0  2019-03-22            9  \n",
       "3    automatic   sedan       black     0.0  2019-04-02           28  \n",
       "4    automatic   sedan       black     1.0  2018-06-20           15  "
      ]
     },
     "execution_count": 11,
     "metadata": {},
     "output_type": "execute_result"
    }
   ],
   "source": [
    "def median_cylinders(model):\n",
    "    median = df.loc[df['model'] == model, 'cylinders'].median()\n",
    "    return median\n",
    "\n",
    "for f in df['model'].unique():\n",
    "    fill_value = median_cylinders(f)\n",
    "    df.loc[df['model'] == f, 'cylinders'] = df.loc[df['model'] == f, 'cylinders'].fillna(fill_value)\n",
    "\n",
    "df.head()"
   ]
  },
  {
   "cell_type": "markdown",
   "metadata": {},
   "source": [
    "### Odometer"
   ]
  },
  {
   "cell_type": "markdown",
   "metadata": {},
   "source": [
    "Para reemplazar el valor del odómetro, nuevamente se definirá mediante una función la mediana del odómetro para cada modelo de vehículo, excepto para un modelo de Mercedez Benz que no tiene información sobre su millaje. Posteriormente, mediante un bucle for, los valores NaN serán remplazados con la mediana de su respectivo modelo a través del método .fillna."
   ]
  },
  {
   "cell_type": "code",
   "execution_count": 12,
   "metadata": {},
   "outputs": [
    {
     "name": "stderr",
     "output_type": "stream",
     "text": [
      "/opt/conda/lib/python3.9/site-packages/numpy/lib/nanfunctions.py:1117: RuntimeWarning: Mean of empty slice\n",
      "  return np.nanmean(a, axis, out=out, keepdims=keepdims)\n"
     ]
    },
    {
     "data": {
      "text/html": [
       "<div>\n",
       "<style scoped>\n",
       "    .dataframe tbody tr th:only-of-type {\n",
       "        vertical-align: middle;\n",
       "    }\n",
       "\n",
       "    .dataframe tbody tr th {\n",
       "        vertical-align: top;\n",
       "    }\n",
       "\n",
       "    .dataframe thead th {\n",
       "        text-align: right;\n",
       "    }\n",
       "</style>\n",
       "<table border=\"1\" class=\"dataframe\">\n",
       "  <thead>\n",
       "    <tr style=\"text-align: right;\">\n",
       "      <th></th>\n",
       "      <th>price</th>\n",
       "      <th>model_year</th>\n",
       "      <th>model</th>\n",
       "      <th>condition</th>\n",
       "      <th>cylinders</th>\n",
       "      <th>fuel</th>\n",
       "      <th>odometer</th>\n",
       "      <th>transmission</th>\n",
       "      <th>type</th>\n",
       "      <th>paint_color</th>\n",
       "      <th>is_4wd</th>\n",
       "      <th>date_posted</th>\n",
       "      <th>days_listed</th>\n",
       "    </tr>\n",
       "  </thead>\n",
       "  <tbody>\n",
       "    <tr>\n",
       "      <th>0</th>\n",
       "      <td>9400</td>\n",
       "      <td>2011.0</td>\n",
       "      <td>bmw x5</td>\n",
       "      <td>good</td>\n",
       "      <td>6.0</td>\n",
       "      <td>gas</td>\n",
       "      <td>145000.0</td>\n",
       "      <td>automatic</td>\n",
       "      <td>SUV</td>\n",
       "      <td>other</td>\n",
       "      <td>1.0</td>\n",
       "      <td>2018-06-23</td>\n",
       "      <td>19</td>\n",
       "    </tr>\n",
       "    <tr>\n",
       "      <th>1</th>\n",
       "      <td>5500</td>\n",
       "      <td>2013.0</td>\n",
       "      <td>hyundai sonata</td>\n",
       "      <td>like new</td>\n",
       "      <td>4.0</td>\n",
       "      <td>gas</td>\n",
       "      <td>110000.0</td>\n",
       "      <td>automatic</td>\n",
       "      <td>sedan</td>\n",
       "      <td>red</td>\n",
       "      <td>0.0</td>\n",
       "      <td>2019-02-07</td>\n",
       "      <td>79</td>\n",
       "    </tr>\n",
       "    <tr>\n",
       "      <th>2</th>\n",
       "      <td>1500</td>\n",
       "      <td>2003.0</td>\n",
       "      <td>ford f-150</td>\n",
       "      <td>fair</td>\n",
       "      <td>8.0</td>\n",
       "      <td>gas</td>\n",
       "      <td>121928.0</td>\n",
       "      <td>automatic</td>\n",
       "      <td>pickup</td>\n",
       "      <td>other</td>\n",
       "      <td>0.0</td>\n",
       "      <td>2019-03-22</td>\n",
       "      <td>9</td>\n",
       "    </tr>\n",
       "    <tr>\n",
       "      <th>3</th>\n",
       "      <td>14900</td>\n",
       "      <td>2017.0</td>\n",
       "      <td>chrysler 200</td>\n",
       "      <td>excellent</td>\n",
       "      <td>4.0</td>\n",
       "      <td>gas</td>\n",
       "      <td>80903.0</td>\n",
       "      <td>automatic</td>\n",
       "      <td>sedan</td>\n",
       "      <td>black</td>\n",
       "      <td>0.0</td>\n",
       "      <td>2019-04-02</td>\n",
       "      <td>28</td>\n",
       "    </tr>\n",
       "    <tr>\n",
       "      <th>4</th>\n",
       "      <td>14990</td>\n",
       "      <td>2014.0</td>\n",
       "      <td>chrysler 300</td>\n",
       "      <td>excellent</td>\n",
       "      <td>6.0</td>\n",
       "      <td>gas</td>\n",
       "      <td>57954.0</td>\n",
       "      <td>automatic</td>\n",
       "      <td>sedan</td>\n",
       "      <td>black</td>\n",
       "      <td>1.0</td>\n",
       "      <td>2018-06-20</td>\n",
       "      <td>15</td>\n",
       "    </tr>\n",
       "  </tbody>\n",
       "</table>\n",
       "</div>"
      ],
      "text/plain": [
       "   price  model_year           model  condition  cylinders fuel  odometer  \\\n",
       "0   9400      2011.0          bmw x5       good        6.0  gas  145000.0   \n",
       "1   5500      2013.0  hyundai sonata   like new        4.0  gas  110000.0   \n",
       "2   1500      2003.0      ford f-150       fair        8.0  gas  121928.0   \n",
       "3  14900      2017.0    chrysler 200  excellent        4.0  gas   80903.0   \n",
       "4  14990      2014.0    chrysler 300  excellent        6.0  gas   57954.0   \n",
       "\n",
       "  transmission    type paint_color  is_4wd date_posted  days_listed  \n",
       "0    automatic     SUV       other     1.0  2018-06-23           19  \n",
       "1    automatic   sedan         red     0.0  2019-02-07           79  \n",
       "2    automatic  pickup       other     0.0  2019-03-22            9  \n",
       "3    automatic   sedan       black     0.0  2019-04-02           28  \n",
       "4    automatic   sedan       black     1.0  2018-06-20           15  "
      ]
     },
     "execution_count": 12,
     "metadata": {},
     "output_type": "execute_result"
    }
   ],
   "source": [
    "def median_odometer(model):\n",
    "    median = df.loc[df['model'] == model, 'odometer'].median()\n",
    "    return median\n",
    "\n",
    "for f in df['model'].unique():\n",
    "    fill_value = median_odometer(f)\n",
    "    df.loc[df['model'] == f, 'odometer'] = df.loc[df['model'] == f, 'odometer'].fillna(fill_value)\n",
    "df.head()"
   ]
  },
  {
   "cell_type": "markdown",
   "metadata": {},
   "source": [
    "Finalmente, describiremos estadísticamente el dataframe para ver si hay algún otro problema."
   ]
  },
  {
   "cell_type": "code",
   "execution_count": 13,
   "metadata": {},
   "outputs": [
    {
     "data": {
      "text/html": [
       "<div>\n",
       "<style scoped>\n",
       "    .dataframe tbody tr th:only-of-type {\n",
       "        vertical-align: middle;\n",
       "    }\n",
       "\n",
       "    .dataframe tbody tr th {\n",
       "        vertical-align: top;\n",
       "    }\n",
       "\n",
       "    .dataframe thead th {\n",
       "        text-align: right;\n",
       "    }\n",
       "</style>\n",
       "<table border=\"1\" class=\"dataframe\">\n",
       "  <thead>\n",
       "    <tr style=\"text-align: right;\">\n",
       "      <th></th>\n",
       "      <th>price</th>\n",
       "      <th>model_year</th>\n",
       "      <th>cylinders</th>\n",
       "      <th>odometer</th>\n",
       "      <th>is_4wd</th>\n",
       "      <th>days_listed</th>\n",
       "    </tr>\n",
       "  </thead>\n",
       "  <tbody>\n",
       "    <tr>\n",
       "      <th>count</th>\n",
       "      <td>47906.000000</td>\n",
       "      <td>47906.000000</td>\n",
       "      <td>47906.000000</td>\n",
       "      <td>47872.000000</td>\n",
       "      <td>47906.000000</td>\n",
       "      <td>47906.000000</td>\n",
       "    </tr>\n",
       "    <tr>\n",
       "      <th>mean</th>\n",
       "      <td>12160.465203</td>\n",
       "      <td>2009.750470</td>\n",
       "      <td>6.121843</td>\n",
       "      <td>115197.876619</td>\n",
       "      <td>0.496055</td>\n",
       "      <td>39.564835</td>\n",
       "    </tr>\n",
       "    <tr>\n",
       "      <th>std</th>\n",
       "      <td>10082.453773</td>\n",
       "      <td>6.282065</td>\n",
       "      <td>1.656820</td>\n",
       "      <td>60751.314679</td>\n",
       "      <td>0.499990</td>\n",
       "      <td>28.201967</td>\n",
       "    </tr>\n",
       "    <tr>\n",
       "      <th>min</th>\n",
       "      <td>1.000000</td>\n",
       "      <td>1908.000000</td>\n",
       "      <td>3.000000</td>\n",
       "      <td>0.000000</td>\n",
       "      <td>0.000000</td>\n",
       "      <td>0.000000</td>\n",
       "    </tr>\n",
       "    <tr>\n",
       "      <th>25%</th>\n",
       "      <td>5000.000000</td>\n",
       "      <td>2006.000000</td>\n",
       "      <td>4.000000</td>\n",
       "      <td>76834.000000</td>\n",
       "      <td>0.000000</td>\n",
       "      <td>19.000000</td>\n",
       "    </tr>\n",
       "    <tr>\n",
       "      <th>50%</th>\n",
       "      <td>9000.000000</td>\n",
       "      <td>2011.000000</td>\n",
       "      <td>6.000000</td>\n",
       "      <td>115300.000000</td>\n",
       "      <td>0.000000</td>\n",
       "      <td>33.000000</td>\n",
       "    </tr>\n",
       "    <tr>\n",
       "      <th>75%</th>\n",
       "      <td>16900.000000</td>\n",
       "      <td>2014.000000</td>\n",
       "      <td>8.000000</td>\n",
       "      <td>148087.000000</td>\n",
       "      <td>1.000000</td>\n",
       "      <td>53.000000</td>\n",
       "    </tr>\n",
       "    <tr>\n",
       "      <th>max</th>\n",
       "      <td>375000.000000</td>\n",
       "      <td>2019.000000</td>\n",
       "      <td>12.000000</td>\n",
       "      <td>990000.000000</td>\n",
       "      <td>1.000000</td>\n",
       "      <td>271.000000</td>\n",
       "    </tr>\n",
       "  </tbody>\n",
       "</table>\n",
       "</div>"
      ],
      "text/plain": [
       "               price    model_year     cylinders       odometer        is_4wd  \\\n",
       "count   47906.000000  47906.000000  47906.000000   47872.000000  47906.000000   \n",
       "mean    12160.465203   2009.750470      6.121843  115197.876619      0.496055   \n",
       "std     10082.453773      6.282065      1.656820   60751.314679      0.499990   \n",
       "min         1.000000   1908.000000      3.000000       0.000000      0.000000   \n",
       "25%      5000.000000   2006.000000      4.000000   76834.000000      0.000000   \n",
       "50%      9000.000000   2011.000000      6.000000  115300.000000      0.000000   \n",
       "75%     16900.000000   2014.000000      8.000000  148087.000000      1.000000   \n",
       "max    375000.000000   2019.000000     12.000000  990000.000000      1.000000   \n",
       "\n",
       "        days_listed  \n",
       "count  47906.000000  \n",
       "mean      39.564835  \n",
       "std       28.201967  \n",
       "min        0.000000  \n",
       "25%       19.000000  \n",
       "50%       33.000000  \n",
       "75%       53.000000  \n",
       "max      271.000000  "
      ]
     },
     "execution_count": 13,
     "metadata": {},
     "output_type": "execute_result"
    }
   ],
   "source": [
    "df.describe()"
   ]
  },
  {
   "cell_type": "markdown",
   "metadata": {},
   "source": [
    "## Corrección de los tipos de datos"
   ]
  },
  {
   "cell_type": "markdown",
   "metadata": {},
   "source": [
    "Para saber qué tipos de datos tenemos, usamos el método .dtypes. "
   ]
  },
  {
   "cell_type": "code",
   "execution_count": 14,
   "metadata": {},
   "outputs": [
    {
     "data": {
      "text/plain": [
       "price             int64\n",
       "model_year      float64\n",
       "model            object\n",
       "condition        object\n",
       "cylinders       float64\n",
       "fuel             object\n",
       "odometer        float64\n",
       "transmission     object\n",
       "type             object\n",
       "paint_color      object\n",
       "is_4wd          float64\n",
       "date_posted      object\n",
       "days_listed       int64\n",
       "dtype: object"
      ]
     },
     "execution_count": 14,
     "metadata": {},
     "output_type": "execute_result"
    }
   ],
   "source": [
    "df.dtypes"
   ]
  },
  {
   "cell_type": "markdown",
   "metadata": {},
   "source": [
    "Cambiaremos los números de las columnas, model_year, cylinders, odometer e is_4wd a números enteros, ya que actualmente aparecen como números de coma flotante."
   ]
  },
  {
   "cell_type": "code",
   "execution_count": 13,
   "metadata": {},
   "outputs": [],
   "source": [
    "df = df.dropna()"
   ]
  },
  {
   "cell_type": "code",
   "execution_count": 14,
   "metadata": {},
   "outputs": [],
   "source": [
    "df['model_year'] = df['model_year'].astype('int64')\n",
    "df['cylinders'] = df['cylinders'].astype('int64')\n",
    "df['odometer'] = df['odometer'].astype('int64')\n",
    "df['is_4wd'] = df['is_4wd'].astype('int64')"
   ]
  },
  {
   "cell_type": "code",
   "execution_count": 15,
   "metadata": {},
   "outputs": [
    {
     "name": "stdout",
     "output_type": "stream",
     "text": [
      "<class 'pandas.core.frame.DataFrame'>\n",
      "Int64Index: 42978 entries, 0 to 47905\n",
      "Data columns (total 13 columns):\n",
      " #   Column        Non-Null Count  Dtype \n",
      "---  ------        --------------  ----- \n",
      " 0   price         42978 non-null  int64 \n",
      " 1   model_year    42978 non-null  int64 \n",
      " 2   model         42978 non-null  object\n",
      " 3   condition     42978 non-null  object\n",
      " 4   cylinders     42978 non-null  int64 \n",
      " 5   fuel          42978 non-null  object\n",
      " 6   odometer      42978 non-null  int64 \n",
      " 7   transmission  42978 non-null  object\n",
      " 8   type          42978 non-null  object\n",
      " 9   paint_color   42978 non-null  object\n",
      " 10  is_4wd        42978 non-null  int64 \n",
      " 11  date_posted   42978 non-null  object\n",
      " 12  days_listed   42978 non-null  int64 \n",
      "dtypes: int64(6), object(7)\n",
      "memory usage: 4.6+ MB\n"
     ]
    }
   ],
   "source": [
    "df.info()"
   ]
  },
  {
   "cell_type": "markdown",
   "metadata": {},
   "source": [
    "## Enriquecimiento datos"
   ]
  },
  {
   "cell_type": "markdown",
   "metadata": {},
   "source": [
    "A continuación se harán ajustes para facilitar el análisis de datos, en particular, se convertirá la fecha al formato de pandas .to_datetime, se agregarán los años del vehículo a la fecha y el millaje promedio del vehículo por año, junto con transformar las opciones para la variable condition a una escala númerica, del 1 al 5, donde 1 es rescatable y 5 es nuevo."
   ]
  },
  {
   "cell_type": "code",
   "execution_count": 16,
   "metadata": {
    "scrolled": true
   },
   "outputs": [],
   "source": [
    "df['date_posted'] = pd.to_datetime(df['date_posted'], format='%Y-%m-%d')"
   ]
  },
  {
   "cell_type": "code",
   "execution_count": 17,
   "metadata": {},
   "outputs": [],
   "source": [
    "df['car_age'] = pd.to_datetime(df['date_posted']).dt.year - df['model_year']"
   ]
  },
  {
   "cell_type": "code",
   "execution_count": 18,
   "metadata": {},
   "outputs": [],
   "source": [
    "df['avg_miles_year'] = df['odometer'] /df['car_age']"
   ]
  },
  {
   "cell_type": "code",
   "execution_count": 19,
   "metadata": {},
   "outputs": [],
   "source": [
    "df['condition'] = df['condition'].replace(['new', 'like new', 'excellent', 'good', 'fair', 'salvage'], [5, 4, 3, 2, 1, 0])"
   ]
  },
  {
   "cell_type": "markdown",
   "metadata": {},
   "source": [
    "## Comprobación de datos limpios"
   ]
  },
  {
   "cell_type": "markdown",
   "metadata": {},
   "source": [
    "Ahora que se ha limpiado el dataframe, volveremos a observar sus valores mediante .info, .describe e imprimiendo una muestra del dataframe con .head. Finalmente, tambien se analizará si existen columnas duplicadas, y se eliminarán en caso de existir."
   ]
  },
  {
   "cell_type": "code",
   "execution_count": 20,
   "metadata": {},
   "outputs": [
    {
     "name": "stdout",
     "output_type": "stream",
     "text": [
      "<class 'pandas.core.frame.DataFrame'>\n",
      "Int64Index: 42978 entries, 0 to 47905\n",
      "Data columns (total 15 columns):\n",
      " #   Column          Non-Null Count  Dtype         \n",
      "---  ------          --------------  -----         \n",
      " 0   price           42978 non-null  int64         \n",
      " 1   model_year      42978 non-null  int64         \n",
      " 2   model           42978 non-null  object        \n",
      " 3   condition       42978 non-null  int64         \n",
      " 4   cylinders       42978 non-null  int64         \n",
      " 5   fuel            42978 non-null  object        \n",
      " 6   odometer        42978 non-null  int64         \n",
      " 7   transmission    42978 non-null  object        \n",
      " 8   type            42978 non-null  object        \n",
      " 9   paint_color     42978 non-null  object        \n",
      " 10  is_4wd          42978 non-null  int64         \n",
      " 11  date_posted     42978 non-null  datetime64[ns]\n",
      " 12  days_listed     42978 non-null  int64         \n",
      " 13  car_age         42978 non-null  int64         \n",
      " 14  avg_miles_year  42977 non-null  float64       \n",
      "dtypes: datetime64[ns](1), float64(1), int64(8), object(5)\n",
      "memory usage: 5.2+ MB\n"
     ]
    }
   ],
   "source": [
    "df.info()"
   ]
  },
  {
   "cell_type": "code",
   "execution_count": 23,
   "metadata": {},
   "outputs": [
    {
     "data": {
      "text/html": [
       "<div>\n",
       "<style scoped>\n",
       "    .dataframe tbody tr th:only-of-type {\n",
       "        vertical-align: middle;\n",
       "    }\n",
       "\n",
       "    .dataframe tbody tr th {\n",
       "        vertical-align: top;\n",
       "    }\n",
       "\n",
       "    .dataframe thead th {\n",
       "        text-align: right;\n",
       "    }\n",
       "</style>\n",
       "<table border=\"1\" class=\"dataframe\">\n",
       "  <thead>\n",
       "    <tr style=\"text-align: right;\">\n",
       "      <th></th>\n",
       "      <th>price</th>\n",
       "      <th>model_year</th>\n",
       "      <th>condition</th>\n",
       "      <th>cylinders</th>\n",
       "      <th>odometer</th>\n",
       "      <th>is_4wd</th>\n",
       "      <th>days_listed</th>\n",
       "      <th>car_age</th>\n",
       "      <th>avg_miles_year</th>\n",
       "    </tr>\n",
       "  </thead>\n",
       "  <tbody>\n",
       "    <tr>\n",
       "      <th>count</th>\n",
       "      <td>42978.000000</td>\n",
       "      <td>42978.000000</td>\n",
       "      <td>42978.000000</td>\n",
       "      <td>42978.000000</td>\n",
       "      <td>42978.000000</td>\n",
       "      <td>42978.000000</td>\n",
       "      <td>42978.000000</td>\n",
       "      <td>42978.000000</td>\n",
       "      <td>4.297700e+04</td>\n",
       "    </tr>\n",
       "    <tr>\n",
       "      <th>mean</th>\n",
       "      <td>12152.274513</td>\n",
       "      <td>2009.758737</td>\n",
       "      <td>2.636791</td>\n",
       "      <td>6.126367</td>\n",
       "      <td>115110.686654</td>\n",
       "      <td>0.497231</td>\n",
       "      <td>39.573735</td>\n",
       "      <td>8.547676</td>\n",
       "      <td>inf</td>\n",
       "    </tr>\n",
       "    <tr>\n",
       "      <th>std</th>\n",
       "      <td>10004.331782</td>\n",
       "      <td>6.267763</td>\n",
       "      <td>0.713231</td>\n",
       "      <td>1.660135</td>\n",
       "      <td>60627.035059</td>\n",
       "      <td>0.499998</td>\n",
       "      <td>28.183020</td>\n",
       "      <td>6.279357</td>\n",
       "      <td>NaN</td>\n",
       "    </tr>\n",
       "    <tr>\n",
       "      <th>min</th>\n",
       "      <td>1.000000</td>\n",
       "      <td>1908.000000</td>\n",
       "      <td>0.000000</td>\n",
       "      <td>3.000000</td>\n",
       "      <td>0.000000</td>\n",
       "      <td>0.000000</td>\n",
       "      <td>0.000000</td>\n",
       "      <td>0.000000</td>\n",
       "      <td>0.000000e+00</td>\n",
       "    </tr>\n",
       "    <tr>\n",
       "      <th>25%</th>\n",
       "      <td>5000.000000</td>\n",
       "      <td>2006.000000</td>\n",
       "      <td>2.000000</td>\n",
       "      <td>4.000000</td>\n",
       "      <td>76500.000000</td>\n",
       "      <td>0.000000</td>\n",
       "      <td>19.000000</td>\n",
       "      <td>4.000000</td>\n",
       "      <td>1.066667e+04</td>\n",
       "    </tr>\n",
       "    <tr>\n",
       "      <th>50%</th>\n",
       "      <td>9000.000000</td>\n",
       "      <td>2011.000000</td>\n",
       "      <td>3.000000</td>\n",
       "      <td>6.000000</td>\n",
       "      <td>115207.000000</td>\n",
       "      <td>0.000000</td>\n",
       "      <td>33.000000</td>\n",
       "      <td>7.000000</td>\n",
       "      <td>1.533333e+04</td>\n",
       "    </tr>\n",
       "    <tr>\n",
       "      <th>75%</th>\n",
       "      <td>16900.000000</td>\n",
       "      <td>2014.000000</td>\n",
       "      <td>3.000000</td>\n",
       "      <td>8.000000</td>\n",
       "      <td>148126.750000</td>\n",
       "      <td>1.000000</td>\n",
       "      <td>53.000000</td>\n",
       "      <td>12.000000</td>\n",
       "      <td>2.325000e+04</td>\n",
       "    </tr>\n",
       "    <tr>\n",
       "      <th>max</th>\n",
       "      <td>375000.000000</td>\n",
       "      <td>2019.000000</td>\n",
       "      <td>5.000000</td>\n",
       "      <td>12.000000</td>\n",
       "      <td>990000.000000</td>\n",
       "      <td>1.000000</td>\n",
       "      <td>271.000000</td>\n",
       "      <td>110.000000</td>\n",
       "      <td>inf</td>\n",
       "    </tr>\n",
       "  </tbody>\n",
       "</table>\n",
       "</div>"
      ],
      "text/plain": [
       "               price    model_year     condition     cylinders       odometer  \\\n",
       "count   42978.000000  42978.000000  42978.000000  42978.000000   42978.000000   \n",
       "mean    12152.274513   2009.758737      2.636791      6.126367  115110.686654   \n",
       "std     10004.331782      6.267763      0.713231      1.660135   60627.035059   \n",
       "min         1.000000   1908.000000      0.000000      3.000000       0.000000   \n",
       "25%      5000.000000   2006.000000      2.000000      4.000000   76500.000000   \n",
       "50%      9000.000000   2011.000000      3.000000      6.000000  115207.000000   \n",
       "75%     16900.000000   2014.000000      3.000000      8.000000  148126.750000   \n",
       "max    375000.000000   2019.000000      5.000000     12.000000  990000.000000   \n",
       "\n",
       "             is_4wd   days_listed       car_age  avg_miles_year  \n",
       "count  42978.000000  42978.000000  42978.000000    4.297700e+04  \n",
       "mean       0.497231     39.573735      8.547676             inf  \n",
       "std        0.499998     28.183020      6.279357             NaN  \n",
       "min        0.000000      0.000000      0.000000    0.000000e+00  \n",
       "25%        0.000000     19.000000      4.000000    1.066667e+04  \n",
       "50%        0.000000     33.000000      7.000000    1.533333e+04  \n",
       "75%        1.000000     53.000000     12.000000    2.325000e+04  \n",
       "max        1.000000    271.000000    110.000000             inf  "
      ]
     },
     "execution_count": 23,
     "metadata": {},
     "output_type": "execute_result"
    }
   ],
   "source": [
    "df.describe()"
   ]
  },
  {
   "cell_type": "code",
   "execution_count": 24,
   "metadata": {},
   "outputs": [
    {
     "data": {
      "text/html": [
       "<div>\n",
       "<style scoped>\n",
       "    .dataframe tbody tr th:only-of-type {\n",
       "        vertical-align: middle;\n",
       "    }\n",
       "\n",
       "    .dataframe tbody tr th {\n",
       "        vertical-align: top;\n",
       "    }\n",
       "\n",
       "    .dataframe thead th {\n",
       "        text-align: right;\n",
       "    }\n",
       "</style>\n",
       "<table border=\"1\" class=\"dataframe\">\n",
       "  <thead>\n",
       "    <tr style=\"text-align: right;\">\n",
       "      <th></th>\n",
       "      <th>price</th>\n",
       "      <th>model_year</th>\n",
       "      <th>model</th>\n",
       "      <th>condition</th>\n",
       "      <th>cylinders</th>\n",
       "      <th>fuel</th>\n",
       "      <th>odometer</th>\n",
       "      <th>transmission</th>\n",
       "      <th>type</th>\n",
       "      <th>paint_color</th>\n",
       "      <th>is_4wd</th>\n",
       "      <th>date_posted</th>\n",
       "      <th>days_listed</th>\n",
       "      <th>car_age</th>\n",
       "      <th>avg_miles_year</th>\n",
       "    </tr>\n",
       "  </thead>\n",
       "  <tbody>\n",
       "    <tr>\n",
       "      <th>0</th>\n",
       "      <td>9400</td>\n",
       "      <td>2011</td>\n",
       "      <td>bmw x5</td>\n",
       "      <td>2</td>\n",
       "      <td>6</td>\n",
       "      <td>gas</td>\n",
       "      <td>145000</td>\n",
       "      <td>automatic</td>\n",
       "      <td>SUV</td>\n",
       "      <td>other</td>\n",
       "      <td>1</td>\n",
       "      <td>2018-06-23</td>\n",
       "      <td>19</td>\n",
       "      <td>7</td>\n",
       "      <td>20714.285714</td>\n",
       "    </tr>\n",
       "    <tr>\n",
       "      <th>1</th>\n",
       "      <td>5500</td>\n",
       "      <td>2013</td>\n",
       "      <td>hyundai sonata</td>\n",
       "      <td>4</td>\n",
       "      <td>4</td>\n",
       "      <td>gas</td>\n",
       "      <td>110000</td>\n",
       "      <td>automatic</td>\n",
       "      <td>sedan</td>\n",
       "      <td>red</td>\n",
       "      <td>0</td>\n",
       "      <td>2019-02-07</td>\n",
       "      <td>79</td>\n",
       "      <td>6</td>\n",
       "      <td>18333.333333</td>\n",
       "    </tr>\n",
       "    <tr>\n",
       "      <th>2</th>\n",
       "      <td>1500</td>\n",
       "      <td>2003</td>\n",
       "      <td>ford f-150</td>\n",
       "      <td>1</td>\n",
       "      <td>8</td>\n",
       "      <td>gas</td>\n",
       "      <td>121928</td>\n",
       "      <td>automatic</td>\n",
       "      <td>pickup</td>\n",
       "      <td>other</td>\n",
       "      <td>0</td>\n",
       "      <td>2019-03-22</td>\n",
       "      <td>9</td>\n",
       "      <td>16</td>\n",
       "      <td>7620.500000</td>\n",
       "    </tr>\n",
       "    <tr>\n",
       "      <th>3</th>\n",
       "      <td>14900</td>\n",
       "      <td>2017</td>\n",
       "      <td>chrysler 200</td>\n",
       "      <td>3</td>\n",
       "      <td>4</td>\n",
       "      <td>gas</td>\n",
       "      <td>80903</td>\n",
       "      <td>automatic</td>\n",
       "      <td>sedan</td>\n",
       "      <td>black</td>\n",
       "      <td>0</td>\n",
       "      <td>2019-04-02</td>\n",
       "      <td>28</td>\n",
       "      <td>2</td>\n",
       "      <td>40451.500000</td>\n",
       "    </tr>\n",
       "    <tr>\n",
       "      <th>4</th>\n",
       "      <td>14990</td>\n",
       "      <td>2014</td>\n",
       "      <td>chrysler 300</td>\n",
       "      <td>3</td>\n",
       "      <td>6</td>\n",
       "      <td>gas</td>\n",
       "      <td>57954</td>\n",
       "      <td>automatic</td>\n",
       "      <td>sedan</td>\n",
       "      <td>black</td>\n",
       "      <td>1</td>\n",
       "      <td>2018-06-20</td>\n",
       "      <td>15</td>\n",
       "      <td>4</td>\n",
       "      <td>14488.500000</td>\n",
       "    </tr>\n",
       "  </tbody>\n",
       "</table>\n",
       "</div>"
      ],
      "text/plain": [
       "   price  model_year           model  condition  cylinders fuel  odometer  \\\n",
       "0   9400        2011          bmw x5          2          6  gas    145000   \n",
       "1   5500        2013  hyundai sonata          4          4  gas    110000   \n",
       "2   1500        2003      ford f-150          1          8  gas    121928   \n",
       "3  14900        2017    chrysler 200          3          4  gas     80903   \n",
       "4  14990        2014    chrysler 300          3          6  gas     57954   \n",
       "\n",
       "  transmission    type paint_color  is_4wd date_posted  days_listed  car_age  \\\n",
       "0    automatic     SUV       other       1  2018-06-23           19        7   \n",
       "1    automatic   sedan         red       0  2019-02-07           79        6   \n",
       "2    automatic  pickup       other       0  2019-03-22            9       16   \n",
       "3    automatic   sedan       black       0  2019-04-02           28        2   \n",
       "4    automatic   sedan       black       1  2018-06-20           15        4   \n",
       "\n",
       "   avg_miles_year  \n",
       "0    20714.285714  \n",
       "1    18333.333333  \n",
       "2     7620.500000  \n",
       "3    40451.500000  \n",
       "4    14488.500000  "
      ]
     },
     "execution_count": 24,
     "metadata": {},
     "output_type": "execute_result"
    }
   ],
   "source": [
    "df.head()"
   ]
  },
  {
   "cell_type": "code",
   "execution_count": 25,
   "metadata": {},
   "outputs": [
    {
     "data": {
      "text/html": [
       "<div>\n",
       "<style scoped>\n",
       "    .dataframe tbody tr th:only-of-type {\n",
       "        vertical-align: middle;\n",
       "    }\n",
       "\n",
       "    .dataframe tbody tr th {\n",
       "        vertical-align: top;\n",
       "    }\n",
       "\n",
       "    .dataframe thead th {\n",
       "        text-align: right;\n",
       "    }\n",
       "</style>\n",
       "<table border=\"1\" class=\"dataframe\">\n",
       "  <thead>\n",
       "    <tr style=\"text-align: right;\">\n",
       "      <th></th>\n",
       "      <th>price</th>\n",
       "      <th>model_year</th>\n",
       "      <th>model</th>\n",
       "      <th>condition</th>\n",
       "      <th>cylinders</th>\n",
       "      <th>fuel</th>\n",
       "      <th>odometer</th>\n",
       "      <th>transmission</th>\n",
       "      <th>type</th>\n",
       "      <th>paint_color</th>\n",
       "      <th>is_4wd</th>\n",
       "      <th>date_posted</th>\n",
       "      <th>days_listed</th>\n",
       "      <th>car_age</th>\n",
       "      <th>avg_miles_year</th>\n",
       "    </tr>\n",
       "  </thead>\n",
       "  <tbody>\n",
       "  </tbody>\n",
       "</table>\n",
       "</div>"
      ],
      "text/plain": [
       "Empty DataFrame\n",
       "Columns: [price, model_year, model, condition, cylinders, fuel, odometer, transmission, type, paint_color, is_4wd, date_posted, days_listed, car_age, avg_miles_year]\n",
       "Index: []"
      ]
     },
     "execution_count": 25,
     "metadata": {},
     "output_type": "execute_result"
    }
   ],
   "source": [
    "duplicate = df[df.duplicated()]\n",
    "duplicate"
   ]
  },
  {
   "cell_type": "markdown",
   "metadata": {},
   "source": [
    "## Estudio de los parámetros principales\n",
    "\n",
    "A continuació se estudiará mediante histogramas los siguientes paramétros.\n",
    "- Precio\n",
    "- Los años del vehículo cuando el anuncio se colocó\n",
    "- Millaje\n",
    "- Número de cilindros\n",
    "- Estado\n",
    "\n",
    "Para estudiar sus valores atípicos y su mediana, se utilizará un gráfico de cajas y bigotes."
   ]
  },
  {
   "cell_type": "markdown",
   "metadata": {},
   "source": [
    "[Si te das cuenta que necesitas repetir los mismos trabajos varias veces, piensa qué instrumento de programación podría ser útil para evitar duplicar tu código.]"
   ]
  },
  {
   "cell_type": "markdown",
   "metadata": {},
   "source": [
    "### Price"
   ]
  },
  {
   "cell_type": "code",
   "execution_count": 26,
   "metadata": {},
   "outputs": [
    {
     "data": {
      "text/plain": [
       "Text(0.5, 1.0, \"Vehicle's price\")"
      ]
     },
     "execution_count": 26,
     "metadata": {},
     "output_type": "execute_result"
    },
    {
     "data": {
      "image/png": "[encoded data removed]",
      "text/plain": [
       "<Figure size 432x288 with 1 Axes>"
      ]
     },
     "metadata": {
      "needs_background": "light"
     },
     "output_type": "display_data"
    }
   ],
   "source": [
    "df['price'].hist(bins=100, range=[0, 100000])\n",
    "\n",
    "plt.xlabel('Price')\n",
    "plt.ylabel('Frequency')\n",
    "plt.title(\"Vehicle's price\")"
   ]
  },
  {
   "cell_type": "markdown",
   "metadata": {},
   "source": [
    "La distribución de los datos se concentran hacia la izquierda, entre los valores de 0 a 40000. A continuación se presenta un gráfico de cajas y bigotes para esta misma variable, para conocer su rango intercuartílico, su mediana y su dispersión."
   ]
  },
  {
   "cell_type": "code",
   "execution_count": 27,
   "metadata": {},
   "outputs": [
    {
     "data": {
      "text/plain": [
       "Text(0.5, 1.0, \"Vehicle's Price Boxplot\")"
      ]
     },
     "execution_count": 27,
     "metadata": {},
     "output_type": "execute_result"
    },
    {
     "data": {
      "image/png": "[encoded data removed]",
      "text/plain": [
       "<Figure size 432x288 with 1 Axes>"
      ]
     },
     "metadata": {
      "needs_background": "light"
     },
     "output_type": "display_data"
    }
   ],
   "source": [
    "df.boxplot('price')\n",
    "\n",
    "plt.ylabel('price')\n",
    "plt.ylim(0,50000)\n",
    "plt.title(\"Vehicle's Price Boxplot\")"
   ]
  },
  {
   "cell_type": "markdown",
   "metadata": {},
   "source": [
    "La mayoría de los valores se encunetra entre los 5.000 y los 17.000 dólares aproximadamente, con la mediana bordeando los 9.000 dólares. Los bigotes son asimétricos respecto a la caja y se observa mucha dispersión de datos en los valores de auto más caros. "
   ]
  },
  {
   "cell_type": "markdown",
   "metadata": {},
   "source": [
    "### Car Age\n",
    "\n"
   ]
  },
  {
   "cell_type": "code",
   "execution_count": 35,
   "metadata": {},
   "outputs": [
    {
     "data": {
      "text/plain": [
       "Text(0.5, 1.0, \"Vehicle's amount of years when it was posted\")"
      ]
     },
     "execution_count": 35,
     "metadata": {},
     "output_type": "execute_result"
    },
    {
     "data": {
      "image/png": "[encoded data removed]",
      "text/plain": [
       "<Figure size 432x288 with 1 Axes>"
      ]
     },
     "metadata": {
      "needs_background": "light"
     },
     "output_type": "display_data"
    }
   ],
   "source": [
    "df['car_age'].hist(bins=100, range=[0, 100])\n",
    "\n",
    "plt.xlabel('Age of a vehicle')\n",
    "plt.ylabel('Frequency')\n",
    "plt.title(\"Vehicle's amount of years when it was posted\")"
   ]
  },
  {
   "cell_type": "markdown",
   "metadata": {},
   "source": [
    "La distribución de la edad de los autos cuando sus anuncios fueron creados también se concentra a la derecha, con una significante caída a partir de los 20 años. "
   ]
  },
  {
   "cell_type": "code",
   "execution_count": 36,
   "metadata": {},
   "outputs": [
    {
     "data": {
      "text/plain": [
       "Text(0.5, 1.0, \"Vehicle's Age\")"
      ]
     },
     "execution_count": 36,
     "metadata": {},
     "output_type": "execute_result"
    },
    {
     "data": {
      "image/png": "[encoded data removed]",
      "text/plain": [
       "<Figure size 432x288 with 1 Axes>"
      ]
     },
     "metadata": {
      "needs_background": "light"
     },
     "output_type": "display_data"
    }
   ],
   "source": [
    "df.boxplot('car_age')\n",
    "\n",
    "plt.ylabel('Car Age')\n",
    "plt.ylim(0,100)\n",
    "plt.title(\"Vehicle's Age\")"
   ]
  },
  {
   "cell_type": "markdown",
   "metadata": {},
   "source": [
    "La mediana se observa alrededor de los 8 u 9 años, y los bigotes son asimétricos respecto a su caja. Se observa una cantidad significativa de datos por sobre el límite superior, llegando casi a los 90 años."
   ]
  },
  {
   "cell_type": "markdown",
   "metadata": {},
   "source": [
    "### Odometer\n",
    "\n"
   ]
  },
  {
   "cell_type": "code",
   "execution_count": 37,
   "metadata": {},
   "outputs": [
    {
     "data": {
      "text/plain": [
       "Text(0.5, 1.0, \"Vehicle's mileage\")"
      ]
     },
     "execution_count": 37,
     "metadata": {},
     "output_type": "execute_result"
    },
    {
     "data": {
      "image/png": "[encoded data removed]",
      "text/plain": [
       "<Figure size 432x288 with 1 Axes>"
      ]
     },
     "metadata": {
      "needs_background": "light"
     },
     "output_type": "display_data"
    }
   ],
   "source": [
    "df['odometer'].hist(bins=100, range=[0,1000000])\n",
    "plt.xlabel('Odometer values')\n",
    "plt.xlim(0,500000)\n",
    "plt.ylabel('Frequency')\n",
    "plt.title(\"Vehicle's mileage\")"
   ]
  },
  {
   "cell_type": "markdown",
   "metadata": {},
   "source": [
    "Se ve un gran pico para el millaje alrededor de las 110.000 millas. Sin embargo, buscando información adicional, esto parece ser común en vehículos usados en venta de alrededor de 10 años (fuente: https://www.wfla.com/tampa-hoy/noticias-locales/cuantas-millas-ya-son-demasiadas-para-un-automovil-usado/#:~:text=Vale%20la%20pena%20reiterar%20que,150%2C000%20millas%20en%20el%20od%C3%B3metro.)"
   ]
  },
  {
   "cell_type": "code",
   "execution_count": 38,
   "metadata": {},
   "outputs": [
    {
     "data": {
      "text/plain": [
       "Text(0.5, 1.0, \"Vehicle's Odometer\")"
      ]
     },
     "execution_count": 38,
     "metadata": {},
     "output_type": "execute_result"
    },
    {
     "data": {
      "image/png": "[encoded data removed]",
      "text/plain": [
       "<Figure size 432x288 with 1 Axes>"
      ]
     },
     "metadata": {
      "needs_background": "light"
     },
     "output_type": "display_data"
    }
   ],
   "source": [
    "df.boxplot('odometer')\n",
    "\n",
    "plt.ylabel('odometer')\n",
    "plt.ylim(0,500000)\n",
    "plt.title(\"Vehicle's Odometer\")"
   ]
  },
  {
   "cell_type": "markdown",
   "metadata": {},
   "source": [
    "La mediana se observa alrededor de las 110.000 millas, y los bigotes son asimétricos respecto a su caja. Se observa una cantidad significativa de datos por sobre el límite superior, llegando a medio millón de millas."
   ]
  },
  {
   "cell_type": "markdown",
   "metadata": {},
   "source": [
    "### Cylinders\n",
    "\n"
   ]
  },
  {
   "cell_type": "code",
   "execution_count": 39,
   "metadata": {},
   "outputs": [
    {
     "data": {
      "text/plain": [
       "Text(0.5, 1.0, \"Vehicle's amount of cylinders\")"
      ]
     },
     "execution_count": 39,
     "metadata": {},
     "output_type": "execute_result"
    },
    {
     "data": {
      "image/png": "[encoded data removed]",
      "text/plain": [
       "<Figure size 432x288 with 1 Axes>"
      ]
     },
     "metadata": {
      "needs_background": "light"
     },
     "output_type": "display_data"
    }
   ],
   "source": [
    "df['cylinders'].hist(bins=100, range=[0, 16])\n",
    "\n",
    "plt.xlabel('Amount of cylinders')\n",
    "plt.ylabel('Frequency')\n",
    "plt.title(\"Vehicle's amount of cylinders\")"
   ]
  },
  {
   "cell_type": "markdown",
   "metadata": {},
   "source": [
    "La mayoría de los vehículos tienen entre 4 a 8 cilindros. La variable no parece tener datos anómalos."
   ]
  },
  {
   "cell_type": "code",
   "execution_count": 40,
   "metadata": {},
   "outputs": [
    {
     "data": {
      "text/plain": [
       "Text(0.5, 1.0, \"Vehicle's Cylinders\")"
      ]
     },
     "execution_count": 40,
     "metadata": {},
     "output_type": "execute_result"
    },
    {
     "data": {
      "image/png": "[encoded data removed]",
      "text/plain": [
       "<Figure size 432x288 with 1 Axes>"
      ]
     },
     "metadata": {
      "needs_background": "light"
     },
     "output_type": "display_data"
    }
   ],
   "source": [
    "df.boxplot('cylinders')\n",
    "\n",
    "plt.ylabel('Cylinders')\n",
    "plt.ylim(0,16)\n",
    "plt.title(\"Vehicle's Cylinders\")"
   ]
  },
  {
   "cell_type": "markdown",
   "metadata": {},
   "source": [
    "Se obsrva claramente que la mediana está en 6 cilindros y no se observa dispersión de datos."
   ]
  },
  {
   "cell_type": "markdown",
   "metadata": {},
   "source": [
    "### Condition\n",
    "\n"
   ]
  },
  {
   "cell_type": "code",
   "execution_count": 41,
   "metadata": {},
   "outputs": [
    {
     "data": {
      "text/plain": [
       "Text(0.5, 1.0, \"Vehicle's Condition\")"
      ]
     },
     "execution_count": 41,
     "metadata": {},
     "output_type": "execute_result"
    },
    {
     "data": {
      "image/png": "[encoded data removed]",
      "text/plain": [
       "<Figure size 432x288 with 1 Axes>"
      ]
     },
     "metadata": {
      "needs_background": "light"
     },
     "output_type": "display_data"
    }
   ],
   "source": [
    "df['condition'].hist(bins=5)\n",
    "\n",
    "plt.xlabel('Condition scale from 0:salvage to 5:new')\n",
    "plt.ylabel('Frequency')\n",
    "plt.title(\"Vehicle's Condition\")"
   ]
  },
  {
   "cell_type": "markdown",
   "metadata": {},
   "source": [
    "Una minoría de los autos están en condición de ser rescatables, y también, pocos autos son nuevos. Ambos datos parecen razonables para una página de anuncios online."
   ]
  },
  {
   "cell_type": "code",
   "execution_count": 42,
   "metadata": {},
   "outputs": [
    {
     "data": {
      "text/plain": [
       "Text(0.5, 1.0, \"Vehicle's Condition\")"
      ]
     },
     "execution_count": 42,
     "metadata": {},
     "output_type": "execute_result"
    },
    {
     "data": {
      "image/png": "[encoded data removed]",
      "text/plain": [
       "<Figure size 432x288 with 1 Axes>"
      ]
     },
     "metadata": {
      "needs_background": "light"
     },
     "output_type": "display_data"
    }
   ],
   "source": [
    "df.boxplot('condition')\n",
    "\n",
    "plt.ylabel('Condition')\n",
    "plt.ylim(0,5)\n",
    "plt.title(\"Vehicle's Condition\")"
   ]
  },
  {
   "cell_type": "markdown",
   "metadata": {},
   "source": [
    "La mediana está en 3, es decir, excelente. No se observa dispersión de datos."
   ]
  },
  {
   "cell_type": "markdown",
   "metadata": {},
   "source": [
    "## Estudio y tratamiento de valores atípicos\n",
    "\n",
    "A continuación, utilizando el IQR o rango intercuartílico, se determinarán los límites inferiores y superiores para los datos típicos. Dicha información será utilizada para filtra el dataframe, creando uno nuevo sin estos valores atípicos que podrían alterar los resultados del análisis.\n"
   ]
  },
  {
   "cell_type": "code",
   "execution_count": 43,
   "metadata": {},
   "outputs": [
    {
     "name": "stdout",
     "output_type": "stream",
     "text": [
      "price      -12850.0\n",
      "car_age        -8.0\n",
      "odometer   -30045.5\n",
      "dtype: float64\n"
     ]
    }
   ],
   "source": [
    "iqr = df[['price', 'car_age', 'odometer']].quantile(0.75) - df[['price', 'car_age', 'odometer']].quantile(0.25)\n",
    "lower_limit = df[['price', 'car_age', 'odometer']].quantile(0.25) - 1.5*iqr\n",
    "print(lower_limit)"
   ]
  },
  {
   "cell_type": "code",
   "execution_count": 44,
   "metadata": {},
   "outputs": [
    {
     "name": "stdout",
     "output_type": "stream",
     "text": [
      "price        34750.0\n",
      "car_age         24.0\n",
      "odometer    254966.5\n",
      "dtype: float64\n"
     ]
    }
   ],
   "source": [
    "iqr = df[['price', 'car_age', 'odometer']].quantile(0.75) - df[['price', 'car_age', 'odometer']].quantile(0.25)\n",
    "upper_limit = df[['price', 'car_age', 'odometer']].quantile(0.75) + 1.5*iqr\n",
    "print(upper_limit)"
   ]
  },
  {
   "cell_type": "markdown",
   "metadata": {},
   "source": [
    "Ahora vamos a ver cuántos valores por encima de cada límite hay para cada parámetro"
   ]
  },
  {
   "cell_type": "code",
   "execution_count": 45,
   "metadata": {},
   "outputs": [
    {
     "data": {
      "text/plain": [
       "1512"
      ]
     },
     "execution_count": 45,
     "metadata": {},
     "output_type": "execute_result"
    }
   ],
   "source": [
    "atypical_values_price = (df['price']>34750).sum()\n",
    "atypical_values_price"
   ]
  },
  {
   "cell_type": "code",
   "execution_count": 46,
   "metadata": {},
   "outputs": [
    {
     "data": {
      "text/plain": [
       "737"
      ]
     },
     "execution_count": 46,
     "metadata": {},
     "output_type": "execute_result"
    }
   ],
   "source": [
    "atypical_values_car_age = (df['car_age']>24).sum()\n",
    "atypical_values_car_age"
   ]
  },
  {
   "cell_type": "code",
   "execution_count": 47,
   "metadata": {},
   "outputs": [
    {
     "data": {
      "text/plain": [
       "1088"
      ]
     },
     "execution_count": 47,
     "metadata": {},
     "output_type": "execute_result"
    }
   ],
   "source": [
    "atypical_values_odometer = (df['odometer']>247317.5).sum()\n",
    "atypical_values_odometer "
   ]
  },
  {
   "cell_type": "markdown",
   "metadata": {},
   "source": [
    "Las filas con valores atípicos representan un 7% de los datos por los que usaremos el método .query para trabajar sin los valores atípicos en un nuevo dataframe, al cual llamaremos \"data\"."
   ]
  },
  {
   "cell_type": "code",
   "execution_count": 48,
   "metadata": {},
   "outputs": [
    {
     "data": {
      "text/html": [
       "<div>\n",
       "<style scoped>\n",
       "    .dataframe tbody tr th:only-of-type {\n",
       "        vertical-align: middle;\n",
       "    }\n",
       "\n",
       "    .dataframe tbody tr th {\n",
       "        vertical-align: top;\n",
       "    }\n",
       "\n",
       "    .dataframe thead th {\n",
       "        text-align: right;\n",
       "    }\n",
       "</style>\n",
       "<table border=\"1\" class=\"dataframe\">\n",
       "  <thead>\n",
       "    <tr style=\"text-align: right;\">\n",
       "      <th></th>\n",
       "      <th>price</th>\n",
       "      <th>model_year</th>\n",
       "      <th>model</th>\n",
       "      <th>condition</th>\n",
       "      <th>cylinders</th>\n",
       "      <th>fuel</th>\n",
       "      <th>odometer</th>\n",
       "      <th>transmission</th>\n",
       "      <th>type</th>\n",
       "      <th>paint_color</th>\n",
       "      <th>is_4wd</th>\n",
       "      <th>date_posted</th>\n",
       "      <th>days_listed</th>\n",
       "      <th>car_age</th>\n",
       "      <th>avg_miles_year</th>\n",
       "    </tr>\n",
       "  </thead>\n",
       "  <tbody>\n",
       "    <tr>\n",
       "      <th>0</th>\n",
       "      <td>9400</td>\n",
       "      <td>2011</td>\n",
       "      <td>bmw x5</td>\n",
       "      <td>2</td>\n",
       "      <td>6</td>\n",
       "      <td>gas</td>\n",
       "      <td>145000</td>\n",
       "      <td>automatic</td>\n",
       "      <td>SUV</td>\n",
       "      <td>other</td>\n",
       "      <td>1</td>\n",
       "      <td>2018-06-23</td>\n",
       "      <td>19</td>\n",
       "      <td>7</td>\n",
       "      <td>20714.285714</td>\n",
       "    </tr>\n",
       "    <tr>\n",
       "      <th>1</th>\n",
       "      <td>5500</td>\n",
       "      <td>2013</td>\n",
       "      <td>hyundai sonata</td>\n",
       "      <td>4</td>\n",
       "      <td>4</td>\n",
       "      <td>gas</td>\n",
       "      <td>110000</td>\n",
       "      <td>automatic</td>\n",
       "      <td>sedan</td>\n",
       "      <td>red</td>\n",
       "      <td>0</td>\n",
       "      <td>2019-02-07</td>\n",
       "      <td>79</td>\n",
       "      <td>6</td>\n",
       "      <td>18333.333333</td>\n",
       "    </tr>\n",
       "    <tr>\n",
       "      <th>2</th>\n",
       "      <td>1500</td>\n",
       "      <td>2003</td>\n",
       "      <td>ford f-150</td>\n",
       "      <td>1</td>\n",
       "      <td>8</td>\n",
       "      <td>gas</td>\n",
       "      <td>121928</td>\n",
       "      <td>automatic</td>\n",
       "      <td>pickup</td>\n",
       "      <td>other</td>\n",
       "      <td>0</td>\n",
       "      <td>2019-03-22</td>\n",
       "      <td>9</td>\n",
       "      <td>16</td>\n",
       "      <td>7620.500000</td>\n",
       "    </tr>\n",
       "    <tr>\n",
       "      <th>3</th>\n",
       "      <td>14900</td>\n",
       "      <td>2017</td>\n",
       "      <td>chrysler 200</td>\n",
       "      <td>3</td>\n",
       "      <td>4</td>\n",
       "      <td>gas</td>\n",
       "      <td>80903</td>\n",
       "      <td>automatic</td>\n",
       "      <td>sedan</td>\n",
       "      <td>black</td>\n",
       "      <td>0</td>\n",
       "      <td>2019-04-02</td>\n",
       "      <td>28</td>\n",
       "      <td>2</td>\n",
       "      <td>40451.500000</td>\n",
       "    </tr>\n",
       "    <tr>\n",
       "      <th>4</th>\n",
       "      <td>14990</td>\n",
       "      <td>2014</td>\n",
       "      <td>chrysler 300</td>\n",
       "      <td>3</td>\n",
       "      <td>6</td>\n",
       "      <td>gas</td>\n",
       "      <td>57954</td>\n",
       "      <td>automatic</td>\n",
       "      <td>sedan</td>\n",
       "      <td>black</td>\n",
       "      <td>1</td>\n",
       "      <td>2018-06-20</td>\n",
       "      <td>15</td>\n",
       "      <td>4</td>\n",
       "      <td>14488.500000</td>\n",
       "    </tr>\n",
       "    <tr>\n",
       "      <th>...</th>\n",
       "      <td>...</td>\n",
       "      <td>...</td>\n",
       "      <td>...</td>\n",
       "      <td>...</td>\n",
       "      <td>...</td>\n",
       "      <td>...</td>\n",
       "      <td>...</td>\n",
       "      <td>...</td>\n",
       "      <td>...</td>\n",
       "      <td>...</td>\n",
       "      <td>...</td>\n",
       "      <td>...</td>\n",
       "      <td>...</td>\n",
       "      <td>...</td>\n",
       "      <td>...</td>\n",
       "    </tr>\n",
       "    <tr>\n",
       "      <th>47901</th>\n",
       "      <td>9249</td>\n",
       "      <td>2013</td>\n",
       "      <td>nissan maxima</td>\n",
       "      <td>4</td>\n",
       "      <td>6</td>\n",
       "      <td>gas</td>\n",
       "      <td>88136</td>\n",
       "      <td>automatic</td>\n",
       "      <td>sedan</td>\n",
       "      <td>black</td>\n",
       "      <td>0</td>\n",
       "      <td>2018-10-03</td>\n",
       "      <td>37</td>\n",
       "      <td>5</td>\n",
       "      <td>17627.200000</td>\n",
       "    </tr>\n",
       "    <tr>\n",
       "      <th>47902</th>\n",
       "      <td>2700</td>\n",
       "      <td>2002</td>\n",
       "      <td>honda civic</td>\n",
       "      <td>0</td>\n",
       "      <td>4</td>\n",
       "      <td>gas</td>\n",
       "      <td>181500</td>\n",
       "      <td>automatic</td>\n",
       "      <td>sedan</td>\n",
       "      <td>white</td>\n",
       "      <td>0</td>\n",
       "      <td>2018-11-14</td>\n",
       "      <td>22</td>\n",
       "      <td>16</td>\n",
       "      <td>11343.750000</td>\n",
       "    </tr>\n",
       "    <tr>\n",
       "      <th>47903</th>\n",
       "      <td>3950</td>\n",
       "      <td>2009</td>\n",
       "      <td>hyundai sonata</td>\n",
       "      <td>3</td>\n",
       "      <td>4</td>\n",
       "      <td>gas</td>\n",
       "      <td>128000</td>\n",
       "      <td>automatic</td>\n",
       "      <td>sedan</td>\n",
       "      <td>blue</td>\n",
       "      <td>0</td>\n",
       "      <td>2018-11-15</td>\n",
       "      <td>32</td>\n",
       "      <td>9</td>\n",
       "      <td>14222.222222</td>\n",
       "    </tr>\n",
       "    <tr>\n",
       "      <th>47904</th>\n",
       "      <td>7455</td>\n",
       "      <td>2013</td>\n",
       "      <td>toyota corolla</td>\n",
       "      <td>2</td>\n",
       "      <td>4</td>\n",
       "      <td>gas</td>\n",
       "      <td>139573</td>\n",
       "      <td>automatic</td>\n",
       "      <td>sedan</td>\n",
       "      <td>black</td>\n",
       "      <td>0</td>\n",
       "      <td>2018-07-02</td>\n",
       "      <td>71</td>\n",
       "      <td>5</td>\n",
       "      <td>27914.600000</td>\n",
       "    </tr>\n",
       "    <tr>\n",
       "      <th>47905</th>\n",
       "      <td>6300</td>\n",
       "      <td>2014</td>\n",
       "      <td>nissan altima</td>\n",
       "      <td>2</td>\n",
       "      <td>4</td>\n",
       "      <td>gas</td>\n",
       "      <td>99965</td>\n",
       "      <td>automatic</td>\n",
       "      <td>sedan</td>\n",
       "      <td>other</td>\n",
       "      <td>0</td>\n",
       "      <td>2018-06-05</td>\n",
       "      <td>10</td>\n",
       "      <td>4</td>\n",
       "      <td>24991.250000</td>\n",
       "    </tr>\n",
       "  </tbody>\n",
       "</table>\n",
       "<p>44483 rows × 15 columns</p>\n",
       "</div>"
      ],
      "text/plain": [
       "       price  model_year           model  condition  cylinders fuel  odometer  \\\n",
       "0       9400        2011          bmw x5          2          6  gas    145000   \n",
       "1       5500        2013  hyundai sonata          4          4  gas    110000   \n",
       "2       1500        2003      ford f-150          1          8  gas    121928   \n",
       "3      14900        2017    chrysler 200          3          4  gas     80903   \n",
       "4      14990        2014    chrysler 300          3          6  gas     57954   \n",
       "...      ...         ...             ...        ...        ...  ...       ...   \n",
       "47901   9249        2013   nissan maxima          4          6  gas     88136   \n",
       "47902   2700        2002     honda civic          0          4  gas    181500   \n",
       "47903   3950        2009  hyundai sonata          3          4  gas    128000   \n",
       "47904   7455        2013  toyota corolla          2          4  gas    139573   \n",
       "47905   6300        2014   nissan altima          2          4  gas     99965   \n",
       "\n",
       "      transmission    type paint_color  is_4wd date_posted  days_listed  \\\n",
       "0        automatic     SUV       other       1  2018-06-23           19   \n",
       "1        automatic   sedan         red       0  2019-02-07           79   \n",
       "2        automatic  pickup       other       0  2019-03-22            9   \n",
       "3        automatic   sedan       black       0  2019-04-02           28   \n",
       "4        automatic   sedan       black       1  2018-06-20           15   \n",
       "...            ...     ...         ...     ...         ...          ...   \n",
       "47901    automatic   sedan       black       0  2018-10-03           37   \n",
       "47902    automatic   sedan       white       0  2018-11-14           22   \n",
       "47903    automatic   sedan        blue       0  2018-11-15           32   \n",
       "47904    automatic   sedan       black       0  2018-07-02           71   \n",
       "47905    automatic   sedan       other       0  2018-06-05           10   \n",
       "\n",
       "       car_age  avg_miles_year  \n",
       "0            7    20714.285714  \n",
       "1            6    18333.333333  \n",
       "2           16     7620.500000  \n",
       "3            2    40451.500000  \n",
       "4            4    14488.500000  \n",
       "...        ...             ...  \n",
       "47901        5    17627.200000  \n",
       "47902       16    11343.750000  \n",
       "47903        9    14222.222222  \n",
       "47904        5    27914.600000  \n",
       "47905        4    24991.250000  \n",
       "\n",
       "[44483 rows x 15 columns]"
      ]
     },
     "execution_count": 48,
     "metadata": {},
     "output_type": "execute_result"
    }
   ],
   "source": [
    "data = df.query('(price < 34750) & (car_age < 24) & (odometer < 247317.5)')\n",
    "data"
   ]
  },
  {
   "cell_type": "markdown",
   "metadata": {},
   "source": [
    "## Estudio de los parámetros principales sin valores atípicos"
   ]
  },
  {
   "cell_type": "markdown",
   "metadata": {},
   "source": [
    "Con este nuevo dataframe, volveremos a crear histogramas para los parámetros principales a los cuales se les realizaron ajustes: precio, edad, y odómetro. Para no crear histogramas individuales, esta vez de crearán los tres histogramas a partir de una sola línea de código."
   ]
  },
  {
   "cell_type": "code",
   "execution_count": 49,
   "metadata": {},
   "outputs": [
    {
     "data": {
      "text/plain": [
       "array([[<AxesSubplot:title={'center':'price'}>,\n",
       "        <AxesSubplot:title={'center':'car_age'}>],\n",
       "       [<AxesSubplot:title={'center':'odometer'}>, <AxesSubplot:>]],\n",
       "      dtype=object)"
      ]
     },
     "execution_count": 49,
     "metadata": {},
     "output_type": "execute_result"
    },
    {
     "data": {
      "image/png": "[encoded data removed]",
      "text/plain": [
       "<Figure size 1080x576 with 4 Axes>"
      ]
     },
     "metadata": {
      "needs_background": "light"
     },
     "output_type": "display_data"
    }
   ],
   "source": [
    "data[['price', 'car_age', 'odometer']].hist(bins=100, figsize=(15,8))"
   ]
  },
  {
   "cell_type": "markdown",
   "metadata": {},
   "source": [
    "La distribución para todas las variables se ve menos concentrada hacia el extremo izquierdo que antes. Se sigue observando un gran pico en la frecuencia de los vehículos cuyo millaje ronda las 110.000 a 120.000 millas, pero como se observó antes, esto parece ser una característica habitual dentro del rubro de los autos usados."
   ]
  },
  {
   "cell_type": "markdown",
   "metadata": {},
   "source": [
    "## Periodo de colocación de los anuncios\n",
    "\n",
    "A continuación, se estudiará por cuántos días fueron mostrados los anuncios mediante un histograma. Para conocer la duración promedio de un anuncio, se calculará la media y la mediana. También se estudiarán los anuncios de corta y larga duración."
   ]
  },
  {
   "cell_type": "code",
   "execution_count": 50,
   "metadata": {},
   "outputs": [
    {
     "data": {
      "text/plain": [
       "Text(0.5, 1.0, 'Length of an ad in days')"
      ]
     },
     "execution_count": 50,
     "metadata": {},
     "output_type": "execute_result"
    },
    {
     "data": {
      "image/png": "[encoded data removed]",
      "text/plain": [
       "<Figure size 432x288 with 1 Axes>"
      ]
     },
     "metadata": {
      "needs_background": "light"
     },
     "output_type": "display_data"
    }
   ],
   "source": [
    "data['days_listed'].hist(bins=100)\n",
    "\n",
    "plt.xlabel('Number of days')\n",
    "plt.ylabel('Frequency')\n",
    "plt.title(\"Length of an ad in days\")"
   ]
  },
  {
   "cell_type": "markdown",
   "metadata": {},
   "source": [
    "El gráfico muestra que la mayor parte de los anuncios duran menos de 100 días. Llama la atención que existan anuncios con valores de 0 días."
   ]
  },
  {
   "cell_type": "code",
   "execution_count": 51,
   "metadata": {},
   "outputs": [
    {
     "data": {
      "text/plain": [
       "39.557943484027604"
      ]
     },
     "execution_count": 51,
     "metadata": {},
     "output_type": "execute_result"
    }
   ],
   "source": [
    "mean = data['days_listed'].mean()\n",
    "mean"
   ]
  },
  {
   "cell_type": "code",
   "execution_count": 52,
   "metadata": {},
   "outputs": [
    {
     "data": {
      "text/plain": [
       "33.0"
      ]
     },
     "execution_count": 52,
     "metadata": {},
     "output_type": "execute_result"
    }
   ],
   "source": [
    "median = data['days_listed'].median()\n",
    "median"
   ]
  },
  {
   "cell_type": "markdown",
   "metadata": {},
   "source": [
    "La media y la mediana no son lejanas, y toman los valores de 39,5 y 33 respectivamente, es decir, un poco más de un mes."
   ]
  },
  {
   "cell_type": "markdown",
   "metadata": {},
   "source": [
    "A continuación se estudiarán anuncios de corta duración, aquellos que, como se identificó previamente, sus anuncios durán solo un día"
   ]
  },
  {
   "cell_type": "code",
   "execution_count": 53,
   "metadata": {},
   "outputs": [
    {
     "data": {
      "text/html": [
       "<div>\n",
       "<style scoped>\n",
       "    .dataframe tbody tr th:only-of-type {\n",
       "        vertical-align: middle;\n",
       "    }\n",
       "\n",
       "    .dataframe tbody tr th {\n",
       "        vertical-align: top;\n",
       "    }\n",
       "\n",
       "    .dataframe thead th {\n",
       "        text-align: right;\n",
       "    }\n",
       "</style>\n",
       "<table border=\"1\" class=\"dataframe\">\n",
       "  <thead>\n",
       "    <tr style=\"text-align: right;\">\n",
       "      <th></th>\n",
       "      <th>price</th>\n",
       "      <th>model_year</th>\n",
       "      <th>model</th>\n",
       "      <th>condition</th>\n",
       "      <th>cylinders</th>\n",
       "      <th>fuel</th>\n",
       "      <th>odometer</th>\n",
       "      <th>transmission</th>\n",
       "      <th>type</th>\n",
       "      <th>paint_color</th>\n",
       "      <th>is_4wd</th>\n",
       "      <th>date_posted</th>\n",
       "      <th>days_listed</th>\n",
       "      <th>car_age</th>\n",
       "      <th>avg_miles_year</th>\n",
       "    </tr>\n",
       "  </thead>\n",
       "  <tbody>\n",
       "    <tr>\n",
       "      <th>1165</th>\n",
       "      <td>14995</td>\n",
       "      <td>2008</td>\n",
       "      <td>chevrolet silverado 1500</td>\n",
       "      <td>3</td>\n",
       "      <td>8</td>\n",
       "      <td>gas</td>\n",
       "      <td>93300</td>\n",
       "      <td>automatic</td>\n",
       "      <td>truck</td>\n",
       "      <td>grey</td>\n",
       "      <td>1</td>\n",
       "      <td>2018-05-15</td>\n",
       "      <td>0</td>\n",
       "      <td>10</td>\n",
       "      <td>9330.000000</td>\n",
       "    </tr>\n",
       "    <tr>\n",
       "      <th>1854</th>\n",
       "      <td>14000</td>\n",
       "      <td>1999</td>\n",
       "      <td>ford f250</td>\n",
       "      <td>3</td>\n",
       "      <td>8</td>\n",
       "      <td>diesel</td>\n",
       "      <td>137500</td>\n",
       "      <td>automatic</td>\n",
       "      <td>truck</td>\n",
       "      <td>red</td>\n",
       "      <td>1</td>\n",
       "      <td>2018-09-27</td>\n",
       "      <td>0</td>\n",
       "      <td>19</td>\n",
       "      <td>7236.842105</td>\n",
       "    </tr>\n",
       "    <tr>\n",
       "      <th>4254</th>\n",
       "      <td>5000</td>\n",
       "      <td>2007</td>\n",
       "      <td>toyota corolla</td>\n",
       "      <td>2</td>\n",
       "      <td>4</td>\n",
       "      <td>gas</td>\n",
       "      <td>223000</td>\n",
       "      <td>manual</td>\n",
       "      <td>sedan</td>\n",
       "      <td>silver</td>\n",
       "      <td>0</td>\n",
       "      <td>2018-07-11</td>\n",
       "      <td>0</td>\n",
       "      <td>11</td>\n",
       "      <td>20272.727273</td>\n",
       "    </tr>\n",
       "    <tr>\n",
       "      <th>4570</th>\n",
       "      <td>12500</td>\n",
       "      <td>2001</td>\n",
       "      <td>ram 1500</td>\n",
       "      <td>2</td>\n",
       "      <td>8</td>\n",
       "      <td>gas</td>\n",
       "      <td>99892</td>\n",
       "      <td>automatic</td>\n",
       "      <td>truck</td>\n",
       "      <td>black</td>\n",
       "      <td>1</td>\n",
       "      <td>2018-05-11</td>\n",
       "      <td>0</td>\n",
       "      <td>17</td>\n",
       "      <td>5876.000000</td>\n",
       "    </tr>\n",
       "    <tr>\n",
       "      <th>5707</th>\n",
       "      <td>500</td>\n",
       "      <td>2003</td>\n",
       "      <td>dodge dakota</td>\n",
       "      <td>1</td>\n",
       "      <td>6</td>\n",
       "      <td>gas</td>\n",
       "      <td>215457</td>\n",
       "      <td>automatic</td>\n",
       "      <td>pickup</td>\n",
       "      <td>other</td>\n",
       "      <td>0</td>\n",
       "      <td>2018-10-31</td>\n",
       "      <td>0</td>\n",
       "      <td>15</td>\n",
       "      <td>14363.800000</td>\n",
       "    </tr>\n",
       "    <tr>\n",
       "      <th>6120</th>\n",
       "      <td>4800</td>\n",
       "      <td>2007</td>\n",
       "      <td>honda odyssey</td>\n",
       "      <td>2</td>\n",
       "      <td>6</td>\n",
       "      <td>gas</td>\n",
       "      <td>152400</td>\n",
       "      <td>automatic</td>\n",
       "      <td>mini-van</td>\n",
       "      <td>brown</td>\n",
       "      <td>0</td>\n",
       "      <td>2018-09-25</td>\n",
       "      <td>0</td>\n",
       "      <td>11</td>\n",
       "      <td>13854.545455</td>\n",
       "    </tr>\n",
       "    <tr>\n",
       "      <th>6560</th>\n",
       "      <td>5900</td>\n",
       "      <td>2007</td>\n",
       "      <td>jeep grand cherokee laredo</td>\n",
       "      <td>3</td>\n",
       "      <td>6</td>\n",
       "      <td>gas</td>\n",
       "      <td>137473</td>\n",
       "      <td>automatic</td>\n",
       "      <td>SUV</td>\n",
       "      <td>grey</td>\n",
       "      <td>1</td>\n",
       "      <td>2018-07-21</td>\n",
       "      <td>0</td>\n",
       "      <td>11</td>\n",
       "      <td>12497.545455</td>\n",
       "    </tr>\n",
       "    <tr>\n",
       "      <th>8935</th>\n",
       "      <td>4999</td>\n",
       "      <td>2012</td>\n",
       "      <td>nissan sentra</td>\n",
       "      <td>3</td>\n",
       "      <td>4</td>\n",
       "      <td>gas</td>\n",
       "      <td>125000</td>\n",
       "      <td>automatic</td>\n",
       "      <td>sedan</td>\n",
       "      <td>silver</td>\n",
       "      <td>0</td>\n",
       "      <td>2019-03-26</td>\n",
       "      <td>0</td>\n",
       "      <td>7</td>\n",
       "      <td>17857.142857</td>\n",
       "    </tr>\n",
       "    <tr>\n",
       "      <th>9055</th>\n",
       "      <td>15000</td>\n",
       "      <td>2003</td>\n",
       "      <td>ford f-150</td>\n",
       "      <td>2</td>\n",
       "      <td>8</td>\n",
       "      <td>gas</td>\n",
       "      <td>90048</td>\n",
       "      <td>automatic</td>\n",
       "      <td>truck</td>\n",
       "      <td>black</td>\n",
       "      <td>0</td>\n",
       "      <td>2018-09-21</td>\n",
       "      <td>0</td>\n",
       "      <td>15</td>\n",
       "      <td>6003.200000</td>\n",
       "    </tr>\n",
       "    <tr>\n",
       "      <th>9976</th>\n",
       "      <td>3100</td>\n",
       "      <td>2000</td>\n",
       "      <td>chevrolet silverado</td>\n",
       "      <td>2</td>\n",
       "      <td>8</td>\n",
       "      <td>gas</td>\n",
       "      <td>211000</td>\n",
       "      <td>automatic</td>\n",
       "      <td>truck</td>\n",
       "      <td>white</td>\n",
       "      <td>0</td>\n",
       "      <td>2018-07-06</td>\n",
       "      <td>0</td>\n",
       "      <td>18</td>\n",
       "      <td>11722.222222</td>\n",
       "    </tr>\n",
       "  </tbody>\n",
       "</table>\n",
       "</div>"
      ],
      "text/plain": [
       "      price  model_year                       model  condition  cylinders  \\\n",
       "1165  14995        2008    chevrolet silverado 1500          3          8   \n",
       "1854  14000        1999                   ford f250          3          8   \n",
       "4254   5000        2007              toyota corolla          2          4   \n",
       "4570  12500        2001                    ram 1500          2          8   \n",
       "5707    500        2003                dodge dakota          1          6   \n",
       "6120   4800        2007               honda odyssey          2          6   \n",
       "6560   5900        2007  jeep grand cherokee laredo          3          6   \n",
       "8935   4999        2012               nissan sentra          3          4   \n",
       "9055  15000        2003                  ford f-150          2          8   \n",
       "9976   3100        2000         chevrolet silverado          2          8   \n",
       "\n",
       "        fuel  odometer transmission      type paint_color  is_4wd date_posted  \\\n",
       "1165     gas     93300    automatic     truck        grey       1  2018-05-15   \n",
       "1854  diesel    137500    automatic     truck         red       1  2018-09-27   \n",
       "4254     gas    223000       manual     sedan      silver       0  2018-07-11   \n",
       "4570     gas     99892    automatic     truck       black       1  2018-05-11   \n",
       "5707     gas    215457    automatic    pickup       other       0  2018-10-31   \n",
       "6120     gas    152400    automatic  mini-van       brown       0  2018-09-25   \n",
       "6560     gas    137473    automatic       SUV        grey       1  2018-07-21   \n",
       "8935     gas    125000    automatic     sedan      silver       0  2019-03-26   \n",
       "9055     gas     90048    automatic     truck       black       0  2018-09-21   \n",
       "9976     gas    211000    automatic     truck       white       0  2018-07-06   \n",
       "\n",
       "      days_listed  car_age  avg_miles_year  \n",
       "1165            0       10     9330.000000  \n",
       "1854            0       19     7236.842105  \n",
       "4254            0       11    20272.727273  \n",
       "4570            0       17     5876.000000  \n",
       "5707            0       15    14363.800000  \n",
       "6120            0       11    13854.545455  \n",
       "6560            0       11    12497.545455  \n",
       "8935            0        7    17857.142857  \n",
       "9055            0       15     6003.200000  \n",
       "9976            0       18    11722.222222  "
      ]
     },
     "execution_count": 53,
     "metadata": {},
     "output_type": "execute_result"
    }
   ],
   "source": [
    "data[data['days_listed'] == 0].head(10)"
   ]
  },
  {
   "cell_type": "code",
   "execution_count": 54,
   "metadata": {},
   "outputs": [
    {
     "data": {
      "text/plain": [
       "0    44\n",
       "Name: days_listed, dtype: int64"
      ]
     },
     "execution_count": 54,
     "metadata": {},
     "output_type": "execute_result"
    }
   ],
   "source": [
    "data[data['days_listed'] == 0]['days_listed'].value_counts()"
   ]
  },
  {
   "cell_type": "markdown",
   "metadata": {},
   "source": [
    "Existen 44 anuncios que duraron un día. Es poco probable que un auto usado se venda tan rápido, ya que se debe contactar con el proveedor antes de comprarlo, y probablemente el usuario busque información adicional antes de hacer una compra de ese tipo. Quizás estos datos corresponden a personas que hicieron un anuncio y luego lo borraron, pero del cual quedó registro en la base de datos."
   ]
  },
  {
   "cell_type": "markdown",
   "metadata": {},
   "source": [
    "También se podría considerar un tiempo corto menos de una semana. A continuación se observan esos datos en más profundidad."
   ]
  },
  {
   "cell_type": "code",
   "execution_count": 55,
   "metadata": {},
   "outputs": [
    {
     "data": {
      "text/plain": [
       "6    527\n",
       "5    429\n",
       "4    370\n",
       "3    342\n",
       "2    217\n",
       "1    154\n",
       "0     44\n",
       "Name: days_listed, dtype: int64"
      ]
     },
     "execution_count": 55,
     "metadata": {},
     "output_type": "execute_result"
    }
   ],
   "source": [
    "data[data['days_listed'] < 7]['days_listed'].value_counts()"
   ]
  },
  {
   "cell_type": "markdown",
   "metadata": {},
   "source": [
    "Menos de un 5% de los vehículos se venden dentro de una semana. A continuación se mostrará una muestra de los vehículos cuyos anuncios son de más de 100 días de duración, es decir, un tiempo muy largo."
   ]
  },
  {
   "cell_type": "code",
   "execution_count": 56,
   "metadata": {},
   "outputs": [
    {
     "data": {
      "text/html": [
       "<div>\n",
       "<style scoped>\n",
       "    .dataframe tbody tr th:only-of-type {\n",
       "        vertical-align: middle;\n",
       "    }\n",
       "\n",
       "    .dataframe tbody tr th {\n",
       "        vertical-align: top;\n",
       "    }\n",
       "\n",
       "    .dataframe thead th {\n",
       "        text-align: right;\n",
       "    }\n",
       "</style>\n",
       "<table border=\"1\" class=\"dataframe\">\n",
       "  <thead>\n",
       "    <tr style=\"text-align: right;\">\n",
       "      <th></th>\n",
       "      <th>price</th>\n",
       "      <th>model_year</th>\n",
       "      <th>model</th>\n",
       "      <th>condition</th>\n",
       "      <th>cylinders</th>\n",
       "      <th>fuel</th>\n",
       "      <th>odometer</th>\n",
       "      <th>transmission</th>\n",
       "      <th>type</th>\n",
       "      <th>paint_color</th>\n",
       "      <th>is_4wd</th>\n",
       "      <th>date_posted</th>\n",
       "      <th>days_listed</th>\n",
       "      <th>car_age</th>\n",
       "      <th>avg_miles_year</th>\n",
       "    </tr>\n",
       "  </thead>\n",
       "  <tbody>\n",
       "    <tr>\n",
       "      <th>14</th>\n",
       "      <td>17990</td>\n",
       "      <td>2013</td>\n",
       "      <td>ram 1500</td>\n",
       "      <td>3</td>\n",
       "      <td>8</td>\n",
       "      <td>gas</td>\n",
       "      <td>107279</td>\n",
       "      <td>automatic</td>\n",
       "      <td>pickup</td>\n",
       "      <td>red</td>\n",
       "      <td>1</td>\n",
       "      <td>2018-05-15</td>\n",
       "      <td>111</td>\n",
       "      <td>5</td>\n",
       "      <td>21455.800000</td>\n",
       "    </tr>\n",
       "    <tr>\n",
       "      <th>26</th>\n",
       "      <td>29800</td>\n",
       "      <td>2012</td>\n",
       "      <td>chevrolet corvette</td>\n",
       "      <td>3</td>\n",
       "      <td>8</td>\n",
       "      <td>gas</td>\n",
       "      <td>57413</td>\n",
       "      <td>automatic</td>\n",
       "      <td>coupe</td>\n",
       "      <td>orange</td>\n",
       "      <td>0</td>\n",
       "      <td>2018-10-22</td>\n",
       "      <td>101</td>\n",
       "      <td>6</td>\n",
       "      <td>9568.833333</td>\n",
       "    </tr>\n",
       "    <tr>\n",
       "      <th>32</th>\n",
       "      <td>9500</td>\n",
       "      <td>2008</td>\n",
       "      <td>toyota highlander</td>\n",
       "      <td>2</td>\n",
       "      <td>6</td>\n",
       "      <td>gas</td>\n",
       "      <td>149799</td>\n",
       "      <td>automatic</td>\n",
       "      <td>SUV</td>\n",
       "      <td>other</td>\n",
       "      <td>0</td>\n",
       "      <td>2018-06-04</td>\n",
       "      <td>121</td>\n",
       "      <td>10</td>\n",
       "      <td>14979.900000</td>\n",
       "    </tr>\n",
       "    <tr>\n",
       "      <th>49</th>\n",
       "      <td>3800</td>\n",
       "      <td>2012</td>\n",
       "      <td>ford focus</td>\n",
       "      <td>2</td>\n",
       "      <td>4</td>\n",
       "      <td>gas</td>\n",
       "      <td>130323</td>\n",
       "      <td>automatic</td>\n",
       "      <td>sedan</td>\n",
       "      <td>black</td>\n",
       "      <td>0</td>\n",
       "      <td>2018-11-29</td>\n",
       "      <td>261</td>\n",
       "      <td>6</td>\n",
       "      <td>21720.500000</td>\n",
       "    </tr>\n",
       "    <tr>\n",
       "      <th>83</th>\n",
       "      <td>18800</td>\n",
       "      <td>2015</td>\n",
       "      <td>chevrolet camaro lt coupe 2d</td>\n",
       "      <td>2</td>\n",
       "      <td>6</td>\n",
       "      <td>gas</td>\n",
       "      <td>33926</td>\n",
       "      <td>other</td>\n",
       "      <td>coupe</td>\n",
       "      <td>grey</td>\n",
       "      <td>0</td>\n",
       "      <td>2019-01-16</td>\n",
       "      <td>152</td>\n",
       "      <td>4</td>\n",
       "      <td>8481.500000</td>\n",
       "    </tr>\n",
       "    <tr>\n",
       "      <th>97</th>\n",
       "      <td>22900</td>\n",
       "      <td>2014</td>\n",
       "      <td>ford f150 supercrew cab xlt</td>\n",
       "      <td>2</td>\n",
       "      <td>6</td>\n",
       "      <td>gas</td>\n",
       "      <td>73711</td>\n",
       "      <td>automatic</td>\n",
       "      <td>pickup</td>\n",
       "      <td>white</td>\n",
       "      <td>1</td>\n",
       "      <td>2019-02-27</td>\n",
       "      <td>141</td>\n",
       "      <td>5</td>\n",
       "      <td>14742.200000</td>\n",
       "    </tr>\n",
       "    <tr>\n",
       "      <th>129</th>\n",
       "      <td>4500</td>\n",
       "      <td>2013</td>\n",
       "      <td>nissan altima</td>\n",
       "      <td>3</td>\n",
       "      <td>4</td>\n",
       "      <td>gas</td>\n",
       "      <td>140000</td>\n",
       "      <td>automatic</td>\n",
       "      <td>sedan</td>\n",
       "      <td>silver</td>\n",
       "      <td>0</td>\n",
       "      <td>2019-03-29</td>\n",
       "      <td>108</td>\n",
       "      <td>6</td>\n",
       "      <td>23333.333333</td>\n",
       "    </tr>\n",
       "    <tr>\n",
       "      <th>135</th>\n",
       "      <td>15995</td>\n",
       "      <td>2013</td>\n",
       "      <td>jeep wrangler</td>\n",
       "      <td>3</td>\n",
       "      <td>6</td>\n",
       "      <td>gas</td>\n",
       "      <td>138806</td>\n",
       "      <td>automatic</td>\n",
       "      <td>SUV</td>\n",
       "      <td>black</td>\n",
       "      <td>1</td>\n",
       "      <td>2018-09-08</td>\n",
       "      <td>112</td>\n",
       "      <td>5</td>\n",
       "      <td>27761.200000</td>\n",
       "    </tr>\n",
       "    <tr>\n",
       "      <th>178</th>\n",
       "      <td>6995</td>\n",
       "      <td>2009</td>\n",
       "      <td>ford ranger</td>\n",
       "      <td>2</td>\n",
       "      <td>4</td>\n",
       "      <td>gas</td>\n",
       "      <td>140000</td>\n",
       "      <td>automatic</td>\n",
       "      <td>pickup</td>\n",
       "      <td>white</td>\n",
       "      <td>0</td>\n",
       "      <td>2019-03-31</td>\n",
       "      <td>130</td>\n",
       "      <td>10</td>\n",
       "      <td>14000.000000</td>\n",
       "    </tr>\n",
       "    <tr>\n",
       "      <th>211</th>\n",
       "      <td>8795</td>\n",
       "      <td>2014</td>\n",
       "      <td>honda civic</td>\n",
       "      <td>3</td>\n",
       "      <td>4</td>\n",
       "      <td>gas</td>\n",
       "      <td>85452</td>\n",
       "      <td>automatic</td>\n",
       "      <td>sedan</td>\n",
       "      <td>grey</td>\n",
       "      <td>0</td>\n",
       "      <td>2018-09-11</td>\n",
       "      <td>164</td>\n",
       "      <td>4</td>\n",
       "      <td>21363.000000</td>\n",
       "    </tr>\n",
       "  </tbody>\n",
       "</table>\n",
       "</div>"
      ],
      "text/plain": [
       "     price  model_year                         model  condition  cylinders  \\\n",
       "14   17990        2013                      ram 1500          3          8   \n",
       "26   29800        2012            chevrolet corvette          3          8   \n",
       "32    9500        2008             toyota highlander          2          6   \n",
       "49    3800        2012                    ford focus          2          4   \n",
       "83   18800        2015  chevrolet camaro lt coupe 2d          2          6   \n",
       "97   22900        2014   ford f150 supercrew cab xlt          2          6   \n",
       "129   4500        2013                 nissan altima          3          4   \n",
       "135  15995        2013                 jeep wrangler          3          6   \n",
       "178   6995        2009                   ford ranger          2          4   \n",
       "211   8795        2014                   honda civic          3          4   \n",
       "\n",
       "    fuel  odometer transmission    type paint_color  is_4wd date_posted  \\\n",
       "14   gas    107279    automatic  pickup         red       1  2018-05-15   \n",
       "26   gas     57413    automatic   coupe      orange       0  2018-10-22   \n",
       "32   gas    149799    automatic     SUV       other       0  2018-06-04   \n",
       "49   gas    130323    automatic   sedan       black       0  2018-11-29   \n",
       "83   gas     33926        other   coupe        grey       0  2019-01-16   \n",
       "97   gas     73711    automatic  pickup       white       1  2019-02-27   \n",
       "129  gas    140000    automatic   sedan      silver       0  2019-03-29   \n",
       "135  gas    138806    automatic     SUV       black       1  2018-09-08   \n",
       "178  gas    140000    automatic  pickup       white       0  2019-03-31   \n",
       "211  gas     85452    automatic   sedan        grey       0  2018-09-11   \n",
       "\n",
       "     days_listed  car_age  avg_miles_year  \n",
       "14           111        5    21455.800000  \n",
       "26           101        6     9568.833333  \n",
       "32           121       10    14979.900000  \n",
       "49           261        6    21720.500000  \n",
       "83           152        4     8481.500000  \n",
       "97           141        5    14742.200000  \n",
       "129          108        6    23333.333333  \n",
       "135          112        5    27761.200000  \n",
       "178          130       10    14000.000000  \n",
       "211          164        4    21363.000000  "
      ]
     },
     "execution_count": 56,
     "metadata": {},
     "output_type": "execute_result"
    }
   ],
   "source": [
    "data[data['days_listed'] > 100].head(10)"
   ]
  },
  {
   "cell_type": "markdown",
   "metadata": {},
   "source": [
    "A simple vista, no parece haber un patrón que explique porque algunos vehículos tardan tanto en venderse, sin embargo, si se observan algunos vehículos con valores bastante más altos que el promedio, lo que puede entorpecer su venta."
   ]
  },
  {
   "cell_type": "code",
   "execution_count": 57,
   "metadata": {},
   "outputs": [
    {
     "data": {
      "text/plain": [
       "101    76\n",
       "104    73\n",
       "103    71\n",
       "102    65\n",
       "105    60\n",
       "       ..\n",
       "189     1\n",
       "180     1\n",
       "179     1\n",
       "168     1\n",
       "271     1\n",
       "Name: days_listed, Length: 121, dtype: int64"
      ]
     },
     "execution_count": 57,
     "metadata": {},
     "output_type": "execute_result"
    }
   ],
   "source": [
    "data[data['days_listed'] > 100]['days_listed'].value_counts()"
   ]
  },
  {
   "cell_type": "markdown",
   "metadata": {},
   "source": [
    "Lo bueno es que al menos ningun vehículo tiene un tiempo de venta mayor a 271 días, es decir, todos se venden en menos de un año."
   ]
  },
  {
   "cell_type": "markdown",
   "metadata": {},
   "source": [
    "## Precio promedio por cada tipo de vehículo"
   ]
  },
  {
   "cell_type": "markdown",
   "metadata": {},
   "source": [
    "A continuación se analizará mediante una tabla dinámica el número de anuncio y el precio promedio para cada tipo de vehiculo. Esto nos dará una idea de cuáles son los tipos de vehículo con más anuncios en el sitio web."
   ]
  },
  {
   "cell_type": "code",
   "execution_count": 58,
   "metadata": {},
   "outputs": [
    {
     "data": {
      "text/html": [
       "<div>\n",
       "<style scoped>\n",
       "    .dataframe tbody tr th:only-of-type {\n",
       "        vertical-align: middle;\n",
       "    }\n",
       "\n",
       "    .dataframe tbody tr th {\n",
       "        vertical-align: top;\n",
       "    }\n",
       "\n",
       "    .dataframe thead tr th {\n",
       "        text-align: left;\n",
       "    }\n",
       "\n",
       "    .dataframe thead tr:last-of-type th {\n",
       "        text-align: right;\n",
       "    }\n",
       "</style>\n",
       "<table border=\"1\" class=\"dataframe\">\n",
       "  <thead>\n",
       "    <tr>\n",
       "      <th></th>\n",
       "      <th>count</th>\n",
       "      <th>mean</th>\n",
       "    </tr>\n",
       "    <tr>\n",
       "      <th></th>\n",
       "      <th>price</th>\n",
       "      <th>price</th>\n",
       "    </tr>\n",
       "    <tr>\n",
       "      <th>type</th>\n",
       "      <th></th>\n",
       "      <th></th>\n",
       "    </tr>\n",
       "  </thead>\n",
       "  <tbody>\n",
       "    <tr>\n",
       "      <th>SUV</th>\n",
       "      <td>10940</td>\n",
       "      <td>10524.127239</td>\n",
       "    </tr>\n",
       "    <tr>\n",
       "      <th>bus</th>\n",
       "      <td>18</td>\n",
       "      <td>19959.166667</td>\n",
       "    </tr>\n",
       "    <tr>\n",
       "      <th>convertible</th>\n",
       "      <td>316</td>\n",
       "      <td>12999.996835</td>\n",
       "    </tr>\n",
       "    <tr>\n",
       "      <th>coupe</th>\n",
       "      <td>1870</td>\n",
       "      <td>13593.239572</td>\n",
       "    </tr>\n",
       "    <tr>\n",
       "      <th>hatchback</th>\n",
       "      <td>931</td>\n",
       "      <td>6866.700322</td>\n",
       "    </tr>\n",
       "    <tr>\n",
       "      <th>mini-van</th>\n",
       "      <td>1057</td>\n",
       "      <td>8092.774834</td>\n",
       "    </tr>\n",
       "    <tr>\n",
       "      <th>offroad</th>\n",
       "      <td>171</td>\n",
       "      <td>14603.315789</td>\n",
       "    </tr>\n",
       "    <tr>\n",
       "      <th>other</th>\n",
       "      <td>210</td>\n",
       "      <td>10399.471429</td>\n",
       "    </tr>\n",
       "    <tr>\n",
       "      <th>pickup</th>\n",
       "      <td>5723</td>\n",
       "      <td>15272.491525</td>\n",
       "    </tr>\n",
       "    <tr>\n",
       "      <th>sedan</th>\n",
       "      <td>11117</td>\n",
       "      <td>7030.352343</td>\n",
       "    </tr>\n",
       "    <tr>\n",
       "      <th>truck</th>\n",
       "      <td>10206</td>\n",
       "      <td>15229.716539</td>\n",
       "    </tr>\n",
       "    <tr>\n",
       "      <th>van</th>\n",
       "      <td>545</td>\n",
       "      <td>8828.355963</td>\n",
       "    </tr>\n",
       "    <tr>\n",
       "      <th>wagon</th>\n",
       "      <td>1379</td>\n",
       "      <td>9032.849166</td>\n",
       "    </tr>\n",
       "  </tbody>\n",
       "</table>\n",
       "</div>"
      ],
      "text/plain": [
       "             count          mean\n",
       "             price         price\n",
       "type                            \n",
       "SUV          10940  10524.127239\n",
       "bus             18  19959.166667\n",
       "convertible    316  12999.996835\n",
       "coupe         1870  13593.239572\n",
       "hatchback      931   6866.700322\n",
       "mini-van      1057   8092.774834\n",
       "offroad        171  14603.315789\n",
       "other          210  10399.471429\n",
       "pickup        5723  15272.491525\n",
       "sedan        11117   7030.352343\n",
       "truck        10206  15229.716539\n",
       "van            545   8828.355963\n",
       "wagon         1379   9032.849166"
      ]
     },
     "execution_count": 58,
     "metadata": {},
     "output_type": "execute_result"
    }
   ],
   "source": [
    "type_summary = data.pivot_table(index='type', values='price', aggfunc=['count','mean'])\n",
    "type_summary"
   ]
  },
  {
   "cell_type": "markdown",
   "metadata": {},
   "source": [
    "Los dos tipos de vehículos más caros son los buses y los pickup. Esto tiene sentido al ser dos tipos de vehículo de gran volumen. Por otra parte, los dos tipos de autos con más anuncios son los sedan y los SUV, autos que son comúnmente conducidos por un alto porcentaje de la población."
   ]
  },
  {
   "cell_type": "code",
   "execution_count": 59,
   "metadata": {},
   "outputs": [
    {
     "data": {
      "text/plain": [
       "Text(0, 0.5, 'Number of Ads')"
      ]
     },
     "execution_count": 59,
     "metadata": {},
     "output_type": "execute_result"
    },
    {
     "data": {
      "image/png": "[encoded data removed]",
      "text/plain": [
       "<Figure size 432x288 with 1 Axes>"
      ]
     },
     "metadata": {
      "needs_background": "light"
     },
     "output_type": "display_data"
    }
   ],
   "source": [
    "type_ads = data['type'].value_counts()\n",
    "type_ads.plot(kind='bar')\n",
    "plt.title('Number of Ads per Type of Vehicle')\n",
    "plt.xlabel('Vehicle Type')\n",
    "plt.ylabel('Number of Ads')"
   ]
  },
  {
   "cell_type": "markdown",
   "metadata": {},
   "source": [
    "En el gráfico de barras anterior se observa con mayor claridad que los sedan y los SUV son los autos con una mayor cantidad de anuncios, superando ambos los 10.000 anuncios."
   ]
  },
  {
   "cell_type": "markdown",
   "metadata": {},
   "source": [
    "## Factores de precio"
   ]
  },
  {
   "cell_type": "markdown",
   "metadata": {},
   "source": [
    "A continuación, se trabajará solo con los vehículos más populares en el sitio web: sedan, SUV, truck, pickup y coupe. Para ellos se estudiará como el precio se relaciona con la edad, el millaje, la condición, el tipo de transmisión y el color. Se trabajarán de forma separada las variables categóricas y númericas. "
   ]
  },
  {
   "cell_type": "code",
   "execution_count": 60,
   "metadata": {},
   "outputs": [
    {
     "data": {
      "text/html": [
       "<div>\n",
       "<style scoped>\n",
       "    .dataframe tbody tr th:only-of-type {\n",
       "        vertical-align: middle;\n",
       "    }\n",
       "\n",
       "    .dataframe tbody tr th {\n",
       "        vertical-align: top;\n",
       "    }\n",
       "\n",
       "    .dataframe thead th {\n",
       "        text-align: right;\n",
       "    }\n",
       "</style>\n",
       "<table border=\"1\" class=\"dataframe\">\n",
       "  <thead>\n",
       "    <tr style=\"text-align: right;\">\n",
       "      <th></th>\n",
       "      <th>price</th>\n",
       "      <th>model_year</th>\n",
       "      <th>model</th>\n",
       "      <th>condition</th>\n",
       "      <th>cylinders</th>\n",
       "      <th>fuel</th>\n",
       "      <th>odometer</th>\n",
       "      <th>transmission</th>\n",
       "      <th>type</th>\n",
       "      <th>paint_color</th>\n",
       "      <th>is_4wd</th>\n",
       "      <th>date_posted</th>\n",
       "      <th>days_listed</th>\n",
       "      <th>car_age</th>\n",
       "      <th>avg_miles_year</th>\n",
       "    </tr>\n",
       "  </thead>\n",
       "  <tbody>\n",
       "    <tr>\n",
       "      <th>0</th>\n",
       "      <td>9400</td>\n",
       "      <td>2011</td>\n",
       "      <td>bmw x5</td>\n",
       "      <td>2</td>\n",
       "      <td>6</td>\n",
       "      <td>gas</td>\n",
       "      <td>145000</td>\n",
       "      <td>automatic</td>\n",
       "      <td>SUV</td>\n",
       "      <td>other</td>\n",
       "      <td>1</td>\n",
       "      <td>2018-06-23</td>\n",
       "      <td>19</td>\n",
       "      <td>7</td>\n",
       "      <td>20714.285714</td>\n",
       "    </tr>\n",
       "    <tr>\n",
       "      <th>1</th>\n",
       "      <td>5500</td>\n",
       "      <td>2013</td>\n",
       "      <td>hyundai sonata</td>\n",
       "      <td>4</td>\n",
       "      <td>4</td>\n",
       "      <td>gas</td>\n",
       "      <td>110000</td>\n",
       "      <td>automatic</td>\n",
       "      <td>sedan</td>\n",
       "      <td>red</td>\n",
       "      <td>0</td>\n",
       "      <td>2019-02-07</td>\n",
       "      <td>79</td>\n",
       "      <td>6</td>\n",
       "      <td>18333.333333</td>\n",
       "    </tr>\n",
       "    <tr>\n",
       "      <th>2</th>\n",
       "      <td>1500</td>\n",
       "      <td>2003</td>\n",
       "      <td>ford f-150</td>\n",
       "      <td>1</td>\n",
       "      <td>8</td>\n",
       "      <td>gas</td>\n",
       "      <td>121928</td>\n",
       "      <td>automatic</td>\n",
       "      <td>pickup</td>\n",
       "      <td>other</td>\n",
       "      <td>0</td>\n",
       "      <td>2019-03-22</td>\n",
       "      <td>9</td>\n",
       "      <td>16</td>\n",
       "      <td>7620.500000</td>\n",
       "    </tr>\n",
       "    <tr>\n",
       "      <th>3</th>\n",
       "      <td>14900</td>\n",
       "      <td>2017</td>\n",
       "      <td>chrysler 200</td>\n",
       "      <td>3</td>\n",
       "      <td>4</td>\n",
       "      <td>gas</td>\n",
       "      <td>80903</td>\n",
       "      <td>automatic</td>\n",
       "      <td>sedan</td>\n",
       "      <td>black</td>\n",
       "      <td>0</td>\n",
       "      <td>2019-04-02</td>\n",
       "      <td>28</td>\n",
       "      <td>2</td>\n",
       "      <td>40451.500000</td>\n",
       "    </tr>\n",
       "    <tr>\n",
       "      <th>4</th>\n",
       "      <td>14990</td>\n",
       "      <td>2014</td>\n",
       "      <td>chrysler 300</td>\n",
       "      <td>3</td>\n",
       "      <td>6</td>\n",
       "      <td>gas</td>\n",
       "      <td>57954</td>\n",
       "      <td>automatic</td>\n",
       "      <td>sedan</td>\n",
       "      <td>black</td>\n",
       "      <td>1</td>\n",
       "      <td>2018-06-20</td>\n",
       "      <td>15</td>\n",
       "      <td>4</td>\n",
       "      <td>14488.500000</td>\n",
       "    </tr>\n",
       "  </tbody>\n",
       "</table>\n",
       "</div>"
      ],
      "text/plain": [
       "   price  model_year           model  condition  cylinders fuel  odometer  \\\n",
       "0   9400        2011          bmw x5          2          6  gas    145000   \n",
       "1   5500        2013  hyundai sonata          4          4  gas    110000   \n",
       "2   1500        2003      ford f-150          1          8  gas    121928   \n",
       "3  14900        2017    chrysler 200          3          4  gas     80903   \n",
       "4  14990        2014    chrysler 300          3          6  gas     57954   \n",
       "\n",
       "  transmission    type paint_color  is_4wd date_posted  days_listed  car_age  \\\n",
       "0    automatic     SUV       other       1  2018-06-23           19        7   \n",
       "1    automatic   sedan         red       0  2019-02-07           79        6   \n",
       "2    automatic  pickup       other       0  2019-03-22            9       16   \n",
       "3    automatic   sedan       black       0  2019-04-02           28        2   \n",
       "4    automatic   sedan       black       1  2018-06-20           15        4   \n",
       "\n",
       "   avg_miles_year  \n",
       "0    20714.285714  \n",
       "1    18333.333333  \n",
       "2     7620.500000  \n",
       "3    40451.500000  \n",
       "4    14488.500000  "
      ]
     },
     "execution_count": 60,
     "metadata": {},
     "output_type": "execute_result"
    }
   ],
   "source": [
    "most_popular = data[data.type.isin(['sedan', 'SUV', 'truck', 'pickup', 'coupe'])]\n",
    "most_popular.head()"
   ]
  },
  {
   "cell_type": "markdown",
   "metadata": {},
   "source": [
    "### Variables categóricas"
   ]
  },
  {
   "cell_type": "markdown",
   "metadata": {},
   "source": [
    "Para trabajar con estas variables, observaremos primero si cada categoría tiene al menos 50 anuncios usando el método value_counts. Trabajar con una menor cantidad de anuncios no permitiría sacar conclusiones confiables debido al pequeño tamaño muestral."
   ]
  },
  {
   "cell_type": "markdown",
   "metadata": {},
   "source": [
    "##### Tipo de transmisión"
   ]
  },
  {
   "cell_type": "code",
   "execution_count": 61,
   "metadata": {},
   "outputs": [
    {
     "data": {
      "text/plain": [
       "automatic    36410\n",
       "manual        1876\n",
       "other         1570\n",
       "Name: transmission, dtype: int64"
      ]
     },
     "execution_count": 61,
     "metadata": {},
     "output_type": "execute_result"
    }
   ],
   "source": [
    "ads_amount_transmission = most_popular.transmission.value_counts()\n",
    "ads_amount_transmission"
   ]
  },
  {
   "cell_type": "code",
   "execution_count": 62,
   "metadata": {},
   "outputs": [
    {
     "data": {
      "text/plain": [
       "Text(0.5, 1.0, \"Price according to a vehicle's transmission\")"
      ]
     },
     "execution_count": 62,
     "metadata": {},
     "output_type": "execute_result"
    },
    {
     "data": {
      "image/png": "[encoded data removed]",
      "text/plain": [
       "<Figure size 432x288 with 1 Axes>"
      ]
     },
     "metadata": {
      "needs_background": "light"
     },
     "output_type": "display_data"
    }
   ],
   "source": [
    "most_popular.boxplot(by='transmission', column='price')\n",
    "plt.title(\"Price according to a vehicle's transmission\")"
   ]
  },
  {
   "cell_type": "markdown",
   "metadata": {},
   "source": [
    "Se observa de acuerdo al gráfico que aquellos vehículos que tienen otro tipo de transmisión, que no sea automático o manual tienen un precio promedio más alto según el gráfico. Sin embargo, tales vehículos solo representan un 3,9% de los vehículos, por lo que sería apresurado sacar conclusiones al respecto"
   ]
  },
  {
   "cell_type": "markdown",
   "metadata": {},
   "source": [
    "##### Color"
   ]
  },
  {
   "cell_type": "code",
   "execution_count": 63,
   "metadata": {},
   "outputs": [
    {
     "data": {
      "text/plain": [
       "white     7789\n",
       "other     7165\n",
       "black     6064\n",
       "silver    4960\n",
       "grey      3965\n",
       "red       3393\n",
       "blue      3370\n",
       "green      958\n",
       "brown      904\n",
       "custom     861\n",
       "yellow     186\n",
       "orange     164\n",
       "purple      77\n",
       "Name: paint_color, dtype: int64"
      ]
     },
     "execution_count": 63,
     "metadata": {},
     "output_type": "execute_result"
    }
   ],
   "source": [
    "ads_amount_color = most_popular.paint_color.value_counts()\n",
    "ads_amount_color"
   ]
  },
  {
   "cell_type": "code",
   "execution_count": 64,
   "metadata": {},
   "outputs": [
    {
     "data": {
      "text/plain": [
       "Text(0.5, 1.0, \"Price according to a vehicle's color\")"
      ]
     },
     "execution_count": 64,
     "metadata": {},
     "output_type": "execute_result"
    },
    {
     "data": {
      "image/png": "[encoded data removed]",
      "text/plain": [
       "<Figure size 1152x648 with 1 Axes>"
      ]
     },
     "metadata": {
      "needs_background": "light"
     },
     "output_type": "display_data"
    }
   ],
   "source": [
    "most_popular.boxplot(by='paint_color', column='price', figsize=(16,9))\n",
    "plt.title(\"Price according to a vehicle's color\")"
   ]
  },
  {
   "cell_type": "markdown",
   "metadata": {},
   "source": [
    "Según el gráfico, los autos amarillos y naranjos tienen una valor de venta más alto. Sin embargo, no hay muchos anuncios de ellos como para sacar conclusiones significativas al respecto."
   ]
  },
  {
   "cell_type": "markdown",
   "metadata": {},
   "source": [
    "### Variables númericas"
   ]
  },
  {
   "cell_type": "markdown",
   "metadata": {},
   "source": [
    "##### Precio"
   ]
  },
  {
   "cell_type": "code",
   "execution_count": 65,
   "metadata": {},
   "outputs": [
    {
     "data": {
      "text/plain": [
       "Text(0.5, 1.0, \"Price according to a vehicle's age\")"
      ]
     },
     "execution_count": 65,
     "metadata": {},
     "output_type": "execute_result"
    },
    {
     "data": {
      "image/png": "[encoded data removed]",
      "text/plain": [
       "<Figure size 432x288 with 1 Axes>"
      ]
     },
     "metadata": {
      "needs_background": "light"
     },
     "output_type": "display_data"
    }
   ],
   "source": [
    "most_popular.plot.scatter(x='car_age', y='price', alpha=0.05)\n",
    "plt.title(\"Price according to a vehicle's age\")"
   ]
  },
  {
   "cell_type": "markdown",
   "metadata": {},
   "source": [
    "Se observa a grandes rasgos una mancha en diagonal que desciende de izquierda a derecha, lo que muestra una correlación negativa del precio con la edad del vehículos. Por lo tanto, Los autos más viejos tienden a ser más baratos, lo que es razonable."
   ]
  },
  {
   "cell_type": "code",
   "execution_count": 66,
   "metadata": {},
   "outputs": [
    {
     "data": {
      "text/plain": [
       "Text(0.5, 1.0, \"Price according to a vehicle's mileage\")"
      ]
     },
     "execution_count": 66,
     "metadata": {},
     "output_type": "execute_result"
    },
    {
     "data": {
      "image/png": "[encoded data removed]",
      "text/plain": [
       "<Figure size 432x288 with 1 Axes>"
      ]
     },
     "metadata": {
      "needs_background": "light"
     },
     "output_type": "display_data"
    }
   ],
   "source": [
    "most_popular.plot.scatter(x='odometer', y='price', alpha=0.05)\n",
    "plt.title(\"Price according to a vehicle's mileage\")"
   ]
  },
  {
   "cell_type": "markdown",
   "metadata": {},
   "source": [
    "Nuevamente se observa un correlación negativa del precio con el millaje. Mientras el millaje es más bajo, el precio es más alto. Esto es razonable ya que un millaje más bajo da la impresión de un vehículo que ha tenido menos uso."
   ]
  },
  {
   "cell_type": "code",
   "execution_count": 67,
   "metadata": {},
   "outputs": [
    {
     "data": {
      "text/plain": [
       "Text(0.5, 1.0, \"Price according to a vehicle's condition\")"
      ]
     },
     "execution_count": 67,
     "metadata": {},
     "output_type": "execute_result"
    },
    {
     "data": {
      "image/png": "[encoded data removed]",
      "text/plain": [
       "<Figure size 432x288 with 1 Axes>"
      ]
     },
     "metadata": {
      "needs_background": "light"
     },
     "output_type": "display_data"
    }
   ],
   "source": [
    "most_popular.plot.scatter(x='condition', y='price', alpha=0.5)\n",
    "plt.title(\"Price according to a vehicle's condition\")"
   ]
  },
  {
   "cell_type": "markdown",
   "metadata": {},
   "source": [
    "La distribución de los datos se concentra en aquellos que están bien (2), excelentes (3), y como nuevos (4). Se observa que la condición efectivamente impacta que un auto tenga un mayor precio."
   ]
  },
  {
   "cell_type": "markdown",
   "metadata": {},
   "source": [
    "Finalmente, se trazará una matriz de correlación para observar los coeficientes de correlación de Pearson de las variables, que dará una medida númerica de la fuerza de la corelación entre las variables. "
   ]
  },
  {
   "cell_type": "code",
   "execution_count": 68,
   "metadata": {},
   "outputs": [
    {
     "data": {
      "text/html": [
       "<div>\n",
       "<style scoped>\n",
       "    .dataframe tbody tr th:only-of-type {\n",
       "        vertical-align: middle;\n",
       "    }\n",
       "\n",
       "    .dataframe tbody tr th {\n",
       "        vertical-align: top;\n",
       "    }\n",
       "\n",
       "    .dataframe thead th {\n",
       "        text-align: right;\n",
       "    }\n",
       "</style>\n",
       "<table border=\"1\" class=\"dataframe\">\n",
       "  <thead>\n",
       "    <tr style=\"text-align: right;\">\n",
       "      <th></th>\n",
       "      <th>price</th>\n",
       "      <th>model_year</th>\n",
       "      <th>condition</th>\n",
       "      <th>cylinders</th>\n",
       "      <th>odometer</th>\n",
       "      <th>is_4wd</th>\n",
       "      <th>days_listed</th>\n",
       "      <th>car_age</th>\n",
       "      <th>avg_miles_year</th>\n",
       "    </tr>\n",
       "  </thead>\n",
       "  <tbody>\n",
       "    <tr>\n",
       "      <th>price</th>\n",
       "      <td>1.000000</td>\n",
       "      <td>0.536078</td>\n",
       "      <td>0.168355</td>\n",
       "      <td>0.311109</td>\n",
       "      <td>-0.394320</td>\n",
       "      <td>0.342922</td>\n",
       "      <td>-0.004034</td>\n",
       "      <td>-0.534143</td>\n",
       "      <td>0.290371</td>\n",
       "    </tr>\n",
       "    <tr>\n",
       "      <th>model_year</th>\n",
       "      <td>0.536078</td>\n",
       "      <td>1.000000</td>\n",
       "      <td>0.275922</td>\n",
       "      <td>-0.151925</td>\n",
       "      <td>-0.553767</td>\n",
       "      <td>-0.013824</td>\n",
       "      <td>-0.005487</td>\n",
       "      <td>-0.995970</td>\n",
       "      <td>0.543572</td>\n",
       "    </tr>\n",
       "    <tr>\n",
       "      <th>condition</th>\n",
       "      <td>0.168355</td>\n",
       "      <td>0.275922</td>\n",
       "      <td>1.000000</td>\n",
       "      <td>-0.086286</td>\n",
       "      <td>-0.227864</td>\n",
       "      <td>-0.002982</td>\n",
       "      <td>-0.001626</td>\n",
       "      <td>-0.274740</td>\n",
       "      <td>0.116749</td>\n",
       "    </tr>\n",
       "    <tr>\n",
       "      <th>cylinders</th>\n",
       "      <td>0.311109</td>\n",
       "      <td>-0.151925</td>\n",
       "      <td>-0.086286</td>\n",
       "      <td>1.000000</td>\n",
       "      <td>0.131722</td>\n",
       "      <td>0.449356</td>\n",
       "      <td>0.001348</td>\n",
       "      <td>0.151552</td>\n",
       "      <td>-0.042287</td>\n",
       "    </tr>\n",
       "    <tr>\n",
       "      <th>odometer</th>\n",
       "      <td>-0.394320</td>\n",
       "      <td>-0.553767</td>\n",
       "      <td>-0.227864</td>\n",
       "      <td>0.131722</td>\n",
       "      <td>1.000000</td>\n",
       "      <td>0.076914</td>\n",
       "      <td>0.008084</td>\n",
       "      <td>0.551664</td>\n",
       "      <td>0.065930</td>\n",
       "    </tr>\n",
       "    <tr>\n",
       "      <th>is_4wd</th>\n",
       "      <td>0.342922</td>\n",
       "      <td>-0.013824</td>\n",
       "      <td>-0.002982</td>\n",
       "      <td>0.449356</td>\n",
       "      <td>0.076914</td>\n",
       "      <td>1.000000</td>\n",
       "      <td>0.001436</td>\n",
       "      <td>0.013723</td>\n",
       "      <td>0.042112</td>\n",
       "    </tr>\n",
       "    <tr>\n",
       "      <th>days_listed</th>\n",
       "      <td>-0.004034</td>\n",
       "      <td>-0.005487</td>\n",
       "      <td>-0.001626</td>\n",
       "      <td>0.001348</td>\n",
       "      <td>0.008084</td>\n",
       "      <td>0.001436</td>\n",
       "      <td>1.000000</td>\n",
       "      <td>0.006468</td>\n",
       "      <td>-0.005546</td>\n",
       "    </tr>\n",
       "    <tr>\n",
       "      <th>car_age</th>\n",
       "      <td>-0.534143</td>\n",
       "      <td>-0.995970</td>\n",
       "      <td>-0.274740</td>\n",
       "      <td>0.151552</td>\n",
       "      <td>0.551664</td>\n",
       "      <td>0.013723</td>\n",
       "      <td>0.006468</td>\n",
       "      <td>1.000000</td>\n",
       "      <td>-0.553189</td>\n",
       "    </tr>\n",
       "    <tr>\n",
       "      <th>avg_miles_year</th>\n",
       "      <td>0.290371</td>\n",
       "      <td>0.543572</td>\n",
       "      <td>0.116749</td>\n",
       "      <td>-0.042287</td>\n",
       "      <td>0.065930</td>\n",
       "      <td>0.042112</td>\n",
       "      <td>-0.005546</td>\n",
       "      <td>-0.553189</td>\n",
       "      <td>1.000000</td>\n",
       "    </tr>\n",
       "  </tbody>\n",
       "</table>\n",
       "</div>"
      ],
      "text/plain": [
       "                   price  model_year  condition  cylinders  odometer  \\\n",
       "price           1.000000    0.536078   0.168355   0.311109 -0.394320   \n",
       "model_year      0.536078    1.000000   0.275922  -0.151925 -0.553767   \n",
       "condition       0.168355    0.275922   1.000000  -0.086286 -0.227864   \n",
       "cylinders       0.311109   -0.151925  -0.086286   1.000000  0.131722   \n",
       "odometer       -0.394320   -0.553767  -0.227864   0.131722  1.000000   \n",
       "is_4wd          0.342922   -0.013824  -0.002982   0.449356  0.076914   \n",
       "days_listed    -0.004034   -0.005487  -0.001626   0.001348  0.008084   \n",
       "car_age        -0.534143   -0.995970  -0.274740   0.151552  0.551664   \n",
       "avg_miles_year  0.290371    0.543572   0.116749  -0.042287  0.065930   \n",
       "\n",
       "                  is_4wd  days_listed   car_age  avg_miles_year  \n",
       "price           0.342922    -0.004034 -0.534143        0.290371  \n",
       "model_year     -0.013824    -0.005487 -0.995970        0.543572  \n",
       "condition      -0.002982    -0.001626 -0.274740        0.116749  \n",
       "cylinders       0.449356     0.001348  0.151552       -0.042287  \n",
       "odometer        0.076914     0.008084  0.551664        0.065930  \n",
       "is_4wd          1.000000     0.001436  0.013723        0.042112  \n",
       "days_listed     0.001436     1.000000  0.006468       -0.005546  \n",
       "car_age         0.013723     0.006468  1.000000       -0.553189  \n",
       "avg_miles_year  0.042112    -0.005546 -0.553189        1.000000  "
      ]
     },
     "execution_count": 68,
     "metadata": {},
     "output_type": "execute_result"
    }
   ],
   "source": [
    "most_popular.corr()"
   ]
  },
  {
   "cell_type": "markdown",
   "metadata": {},
   "source": [
    "La matriz muestra una fuerte correlación para el año del modelo y la edad del auto en relación al precio, siendo la primera una corelación positiva y la segunda una correlación negativa."
   ]
  },
  {
   "cell_type": "markdown",
   "metadata": {},
   "source": [
    "## Conclusión general\n"
   ]
  },
  {
   "cell_type": "markdown",
   "metadata": {},
   "source": [
    "Para realizar este informe se analizaron las características de distintos tipos de vehículos publicados de forma gratuita en el sitio wbe Crankshaft List. El objetivo final era conocer qué factores incluyen en el precio de un vehículo.\n",
    "\n",
    "El primer paso para el análisis fue la carga de datos y librerías y la exploración inicial. Dicha exploración dio cuenta de la existencia de datos ausentes para algunas columnas y la necesidad de corregir el tipo de datos para otras. \n",
    "\n",
    "Los datos ausentes fueron tratados de la siguiente manera:\n",
    "a) is_4wd fue reconocida como una variable dummy, a la que le faltaba el 0 para denotar ausencia de valor, lo cual fue remediado usando .fillna.\n",
    "b) odometer fue reemplazado con la mediana de los datos para dicha variable.\n",
    "c) cylinders también fue reemplazado con la mediana de los datos para dicha variable.\n",
    "d) paint_color fue reemplazado por una nueva opción para tal variable, llamada otro.\n",
    "f) model_year era la columna cuyo porcentaje de datos ausentes era el más bajo, y fueron removidos al no llegar a representar un 10% de los datos.\n",
    "\n",
    "No se encontraron filas duplicadas, pero el análisis mediante gráficos de histograma y cajas y bigotes dieron cuenta de la existencia de valore atípicos para tres columnas: la edad del auto, el odómetro y el precio. Para eliminar dichas anomalías se trabajo con el rango intercuartílico para conocer a partir de que punto se deberían excluir ciertos datos del análisis. De esta manera, se hizo un data slice usando el método .query.\n",
    "\n",
    "Luego de todos estos ajustes se realizó un análisis exploratorio de datos, enfocandonos en los vehículos más populares, entendiendo la popularidad cómo el tener una mayor cantidad de anuncios dentro del sitio web.De dicho análisis se pudo concluir que:\n",
    "a) La edad del vehículo correlaciona negativamente con su precio.\n",
    "b) El millaje del vehiculo correlaciona negativamente con su precio.\n",
    "c) La condicion del vehículo correlaciona positivamente con su precio, entendiendo que a mejor condición mayor precio.\n",
    "\n",
    "Finalmente, se trazó una matriz de correlación que mostró una correlación positiva entre el año del modelo y el precio, es decir, que modelos más recientes tienden a ser más caros. Esto tiene mucho sentido y se relaciona con una variable que ya fue estudiada, la edad del vehículo. Por lo tanto, se puede afirmar que uno de los factores que más impacta el precio de un vehículo es su cantidad de años.\n"
   ]
  }
 ],
 "metadata": {
  "ExecuteTimeLog": [
   {
    "duration": 828,
    "start_time": "2021-11-16T09:21:11.304Z"
   },
   {
    "duration": 893,
    "start_time": "2021-11-16T09:21:17.728Z"
   },
   {
    "duration": 1150,
    "start_time": "2021-11-16T09:21:29.568Z"
   },
   {
    "duration": 3,
    "start_time": "2021-11-16T09:24:14.495Z"
   },
   {
    "duration": 120,
    "start_time": "2021-11-16T09:24:46.630Z"
   },
   {
    "duration": 3,
    "start_time": "2021-11-16T09:28:27.882Z"
   },
   {
    "duration": 4,
    "start_time": "2021-11-16T09:29:54.281Z"
   },
   {
    "duration": 3,
    "start_time": "2021-11-16T09:30:45.936Z"
   },
   {
    "duration": 4,
    "start_time": "2021-11-16T09:31:06.300Z"
   },
   {
    "duration": 113,
    "start_time": "2021-11-16T09:31:37.208Z"
   },
   {
    "duration": 143,
    "start_time": "2021-11-16T09:31:48.656Z"
   },
   {
    "duration": 98,
    "start_time": "2021-11-16T09:31:55.678Z"
   },
   {
    "duration": 3,
    "start_time": "2021-11-16T09:32:08.535Z"
   },
   {
    "duration": 111,
    "start_time": "2021-11-16T09:32:10.120Z"
   },
   {
    "duration": 3,
    "start_time": "2021-11-16T09:32:15.732Z"
   },
   {
    "duration": 4,
    "start_time": "2021-11-16T09:32:29.423Z"
   },
   {
    "duration": 3,
    "start_time": "2021-11-16T10:03:03.074Z"
   },
   {
    "duration": 3,
    "start_time": "2021-11-16T10:10:01.288Z"
   },
   {
    "duration": 3,
    "start_time": "2021-11-16T10:10:46.923Z"
   },
   {
    "duration": 121,
    "start_time": "2021-11-16T10:37:46.494Z"
   },
   {
    "duration": 125,
    "start_time": "2021-11-16T10:38:20.632Z"
   },
   {
    "duration": 112,
    "start_time": "2021-11-16T10:46:53.001Z"
   },
   {
    "duration": 110,
    "start_time": "2021-11-16T10:48:25.775Z"
   },
   {
    "duration": 3,
    "start_time": "2021-11-16T10:50:18.720Z"
   },
   {
    "duration": 4,
    "start_time": "2021-11-16T10:50:37.649Z"
   },
   {
    "duration": 2,
    "start_time": "2021-11-16T10:50:51.884Z"
   },
   {
    "duration": 3,
    "start_time": "2021-11-16T10:51:56.237Z"
   },
   {
    "duration": 101,
    "start_time": "2021-11-16T10:53:13.791Z"
   },
   {
    "duration": 3,
    "start_time": "2021-11-16T10:55:59.186Z"
   },
   {
    "duration": 3,
    "start_time": "2021-11-16T10:56:10.751Z"
   },
   {
    "duration": 3,
    "start_time": "2021-11-16T10:56:49.038Z"
   },
   {
    "duration": 3,
    "start_time": "2021-11-16T10:56:49.174Z"
   },
   {
    "duration": 4,
    "start_time": "2021-11-16T10:56:49.414Z"
   },
   {
    "duration": 3,
    "start_time": "2021-11-16T10:56:49.680Z"
   },
   {
    "duration": 3,
    "start_time": "2021-11-16T10:56:50.370Z"
   },
   {
    "duration": 114,
    "start_time": "2021-11-16T10:59:34.518Z"
   },
   {
    "duration": 3,
    "start_time": "2021-11-16T11:01:41.201Z"
   },
   {
    "duration": 116,
    "start_time": "2021-11-16T11:01:48.754Z"
   },
   {
    "duration": 3,
    "start_time": "2021-11-16T11:02:16.685Z"
   },
   {
    "duration": 3,
    "start_time": "2021-11-16T11:02:19.479Z"
   },
   {
    "duration": 3,
    "start_time": "2021-11-16T11:02:47.067Z"
   },
   {
    "duration": 3,
    "start_time": "2021-11-16T11:02:49.353Z"
   },
   {
    "duration": 3,
    "start_time": "2021-11-16T11:03:07.835Z"
   },
   {
    "duration": 3,
    "start_time": "2021-11-16T11:03:07.953Z"
   },
   {
    "duration": 112,
    "start_time": "2021-11-16T11:07:52.072Z"
   },
   {
    "duration": 187,
    "start_time": "2021-11-16T11:09:23.468Z"
   },
   {
    "duration": 4,
    "start_time": "2021-11-16T11:10:01.455Z"
   },
   {
    "duration": 3,
    "start_time": "2021-11-16T11:10:05.069Z"
   },
   {
    "duration": 4,
    "start_time": "2021-11-16T11:10:13.376Z"
   },
   {
    "duration": 3,
    "start_time": "2021-11-16T11:10:14.434Z"
   },
   {
    "duration": 3,
    "start_time": "2021-11-16T11:10:22.853Z"
   },
   {
    "duration": 4,
    "start_time": "2021-11-16T11:27:29.279Z"
   },
   {
    "duration": 4,
    "start_time": "2021-11-16T11:29:08.919Z"
   },
   {
    "duration": 118,
    "start_time": "2021-11-16T11:29:46.703Z"
   },
   {
    "duration": 437,
    "start_time": "2021-11-16T11:36:02.181Z"
   },
   {
    "duration": 157,
    "start_time": "2021-11-16T11:36:14.388Z"
   },
   {
    "duration": 207,
    "start_time": "2021-11-16T11:47:15.898Z"
   },
   {
    "duration": 3,
    "start_time": "2021-11-16T11:53:52.092Z"
   },
   {
    "duration": 3,
    "start_time": "2021-11-16T11:53:52.236Z"
   },
   {
    "duration": 3,
    "start_time": "2021-11-16T11:59:12.005Z"
   },
   {
    "duration": 112,
    "start_time": "2021-11-16T12:00:33.446Z"
   },
   {
    "duration": 3,
    "start_time": "2021-11-16T12:02:14.453Z"
   },
   {
    "duration": 3,
    "start_time": "2021-11-16T12:02:39.512Z"
   },
   {
    "duration": 106,
    "start_time": "2021-11-16T12:03:03.460Z"
   }
  ],
  "kernelspec": {
   "display_name": "Python 3 (ipykernel)",
   "language": "python",
   "name": "python3"
  },
  "language_info": {
   "codemirror_mode": {
    "name": "ipython",
    "version": 3
   },
   "file_extension": ".py",
   "mimetype": "text/x-python",
   "name": "python",
   "nbconvert_exporter": "python",
   "pygments_lexer": "ipython3",
   "version": "3.9.5"
  },
  "toc": {
   "base_numbering": 1,
   "nav_menu": {},
   "number_sections": true,
   "sideBar": true,
   "skip_h1_title": false,
   "title_cell": "Table of Contents",
   "title_sidebar": "Contents",
   "toc_cell": false,
   "toc_position": {
    "height": "calc(100% - 180px)",
    "left": "10px",
    "top": "150px",
    "width": "276.667px"
   },
   "toc_section_display": true,
   "toc_window_display": true
  }
 },
 "nbformat": 4,
 "nbformat_minor": 2
}
